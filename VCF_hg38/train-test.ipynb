{
 "cells": [
  {
   "cell_type": "code",
   "execution_count": 5,
   "metadata": {},
   "outputs": [],
   "source": [
    "import numpy as np\n",
    "\n",
    "# Parameters (These can be adjusted as needed)\n",
    "w = 1  # weight for gap cost\n",
    "q = 2  # penalty parameter\n",
    "e = 1  # gap extension penalty\n",
    "p = 3  # non-canonical splicing penalty\n",
    "\n",
    "# Gap cost functions\n",
    "def gamma_c(l):\n",
    "    if l > 0:\n",
    "        return 0.01 * w * l + 0.5 * np.log2(l)\n",
    "    else:\n",
    "        return min(0.01 * w * abs(l), np.log2(abs(l)))\n",
    "\n",
    "def gamma_a(l):\n",
    "    if l > 0:\n",
    "        return q + l * e\n",
    "    else:\n",
    "        return min(q + abs(l) * e, p)\n",
    "\n",
    "# Reference sequence (example, replace with actual sequence)\n",
    "T = \"AGGTACGTCGACGTAG\"\n",
    "\n",
    "# Functions to compute d(i) and a(i)\n",
    "def d(i):\n",
    "    if i + 3 < len(T) and T[i+1:i+4] in [\"GTA\", \"GTG\"]:\n",
    "        return 0\n",
    "    elif i + 3 < len(T) and T[i+1:i+4] in [\"GTC\", \"GTT\"]:\n",
    "        return p / 2\n",
    "    else:\n",
    "        return p\n",
    "\n",
    "def a(i):\n",
    "    if i - 2 >= 0 and T[i-2:i+1] in [\"CAG\", \"TAG\"]:\n",
    "        return 0\n",
    "    elif i - 2 >= 0 and T[i-2:i+1] in [\"AAG\", \"GAG\"]:\n",
    "        return p / 2\n",
    "    else:\n",
    "        return p\n",
    "\n",
    "# Scoring function s(i, j)\n",
    "def s(i, j):\n",
    "    # Placeholder scoring function, should be replaced with actual scoring\n",
    "    return 1 if T[i] == T[j] else -1\n",
    "\n",
    "# Spliced alignment with DP\n",
    "def spliced_alignment(query, reference):\n",
    "    m = len(query)\n",
    "    n = len(reference)\n",
    "    \n",
    "    # Initialize matrices\n",
    "    H = np.zeros((m+1, n+1))\n",
    "    E = np.zeros((m+1, n+1))\n",
    "    F = np.zeros((m+1, n+1))\n",
    "    E_ = np.zeros((m+1, n+1))\n",
    "    \n",
    "    # Fill DP tables\n",
    "    for i in range(1, m+1):\n",
    "        for j in range(1, n+1):\n",
    "            H[i, j] = max(H[i-1, j-1] + s(i-1, j-1), E[i, j], F[i, j], E_[i, j] - a(i))\n",
    "            if i + 1 <= m:\n",
    "                E[i+1, j] = max(H[i, j] - q, E[i, j] - e)\n",
    "            if j + 1 <= n:\n",
    "                F[i, j+1] = max(H[i, j] - q, F[i, j] - e)\n",
    "            if i + 1 <= m:\n",
    "                E_[i+1, j] = max(H[i, j] - d(i) - gamma_a(i), E_[i, j] - e)\n",
    "    \n",
    "    return H\n",
    "\n",
    "# Example query and reference sequences\n",
    "query = \"AGTCGACGT\"\n",
    "reference = \"AGGTACGTCGACGTAG\"\n",
    "\n",
    "# Run the spliced alignment\n",
    "H = spliced_alignment(query, reference)\n",
    "\n",
    "# # Display the alignment score matrix\n",
    "# import ace_tools as tools; tools.display_dataframe_to_user(name=\"Spliced Alignment Score Matrix\", dataframe=H)\n",
    "\n",
    "# # Output the score matrix\n",
    "# H\n"
   ]
  },
  {
   "cell_type": "code",
   "execution_count": 6,
   "metadata": {},
   "outputs": [
    {
     "name": "stdout",
     "output_type": "stream",
     "text": [
      "[[ 0.  0.  0.  0.  0.  0.  0.  0.  0.  0.  0.  0.  0.  0.  0.  0.  0.]\n",
      " [ 0.  1.  0.  0.  0.  1.  0.  0.  0.  0.  0.  1.  0.  0.  0.  1.  0.]\n",
      " [ 0.  0.  2.  1. -1. -1.  0.  1. -1. -1.  1. -1.  0.  1. -1. -1.  2.]\n",
      " [ 0.  0.  1.  3.  1.  0. -1.  1.  0. -2.  0.  0. -2.  1.  0. -2.  0.]\n",
      " [ 0.  0. -1.  1.  4.  2.  1.  0.  2.  0. -1. -1. -1. -1.  2.  0. -1.]\n",
      " [ 0.  1. -1.  0.  2.  5.  3.  2.  1.  1. -1.  0. -2. -2.  0.  3.  1.]\n",
      " [ 0.  0.  0. -1.  1.  3.  6.  4.  3.  2.  1.  0.  1. -1. -1.  1.  2.]\n",
      " [ 0.  0.  1.  1.  0.  2.  4.  7.  5.  4.  3.  2.  1.  2.  0.  0.  2.]\n",
      " [ 0.  0. -1.  0.  2.  1.  3.  5.  8.  6.  5.  4.  3.  2.  3.  1.  0.]\n",
      " [ 0.  0. -1. -2.  0.  1.  2.  4.  6.  9.  7.  6.  5.  4.  3.  2.  1.]]\n"
     ]
    }
   ],
   "source": [
    "print(H)"
   ]
  }
 ],
 "metadata": {
  "colab": {
   "provenance": []
  },
  "gpuClass": "standard",
  "kernelspec": {
   "display_name": "Python 3",
   "language": "python",
   "name": "python3"
  },
  "language_info": {
   "codemirror_mode": {
    "name": "ipython",
    "version": 3
   },
   "file_extension": ".py",
   "mimetype": "text/x-python",
   "name": "python",
   "nbconvert_exporter": "python",
   "pygments_lexer": "ipython3",
   "version": "3.10.10"
  }
 },
 "nbformat": 4,
 "nbformat_minor": 1
}
