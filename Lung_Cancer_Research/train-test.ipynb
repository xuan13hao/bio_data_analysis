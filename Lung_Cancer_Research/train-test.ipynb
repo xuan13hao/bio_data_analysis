{
 "cells": [
  {
   "cell_type": "code",
   "execution_count": 1,
   "metadata": {},
   "outputs": [],
   "source": [
    "import matplotlib.pyplot as plt\n",
    "import matplotlib.patches as patches"
   ]
  },
  {
   "cell_type": "code",
   "execution_count": null,
   "metadata": {},
   "outputs": [],
   "source": [
    "# Create a figure and a single subplot\n",
    "fig, ax = plt.subplots(figsize=(10, 3))\n",
    "\n",
    "# Define the properties of the rectangles\n",
    "dataset_width = 10\n",
    "training_set_width = 7\n",
    "test_set_width = 3\n",
    "height = 2\n",
    "\n",
    "# Create the dataset rectangle\n",
    "dataset_rect = patches.Rectangle((0, 0), dataset_width, height, linewidth=1, edgecolor='black', facecolor='none')\n",
    "\n",
    "# Create the training set rectangle\n",
    "training_rect = patches.Rectangle((0, 0), training_set_width, height, linewidth=1, edgecolor='black', facecolor='blue')\n",
    "\n",
    "# Create the test set rectangle\n",
    "test_rect = patches.Rectangle((training_set_width, 0), test_set_width, height, linewidth=1, edgecolor='black', facecolor='green')\n",
    "\n",
    "# Add the rectangles to the plot\n",
    "ax.add_patch(dataset_rect)\n",
    "ax.add_patch(training_rect)\n",
    "ax.add_patch(test_rect)\n",
    "\n",
    "# Add labels\n",
    "plt.text(dataset_width/2, height + 0.1, 'Dataset', ha='center', fontsize=14, weight='bold')\n",
    "plt.text(training_set_width/2, height/2, 'Training Set', ha='center', va='center', fontsize=12, color='white')\n",
    "plt.text(training_set_width + test_set_width/2, height/2, 'Test Set', ha='center', va='center', fontsize=12, color='white')\n",
    "\n",
    "# Add arrows\n",
    "plt.arrow(0, height + 0.5, dataset_width, 0, head_width=0.2, head_length=0.3, fc='black', ec='black')\n",
    "plt.arrow(dataset_width, height + 0.5, -dataset_width, 0, head_width=0.2, head_length=0.3, fc='black', ec='black')\n",
    "\n",
    "# Set limits and remove axes\n",
    "ax.set_xlim(-1, dataset_width + 1)\n",
    "ax.set_ylim(-1, height + 1.5)\n",
    "ax.axis('off')\n",
    "\n",
    "# Show the plot\n",
    "plt.show()"
   ]
  }
 ],
 "metadata": {
  "colab": {
   "provenance": []
  },
  "gpuClass": "standard",
  "kernelspec": {
   "display_name": "Python 3",
   "language": "python",
   "name": "python3"
  },
  "language_info": {
   "codemirror_mode": {
    "name": "ipython",
    "version": 3
   },
   "file_extension": ".py",
   "mimetype": "text/x-python",
   "name": "python",
   "nbconvert_exporter": "python",
   "pygments_lexer": "ipython3",
   "version": "3.10.10"
  }
 },
 "nbformat": 4,
 "nbformat_minor": 1
}
