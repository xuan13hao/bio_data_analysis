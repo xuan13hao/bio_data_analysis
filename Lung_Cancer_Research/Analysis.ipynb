{
 "cells": [
  {
   "cell_type": "code",
   "execution_count": 39,
   "metadata": {},
   "outputs": [],
   "source": [
    "import pandas as pd\n",
    "import numpy as np\n",
    "from sklearn.ensemble import RandomForestClassifier\n",
    "from sklearn.model_selection import train_test_split\n",
    "from sklearn.metrics import accuracy_score, classification_report\n",
    "from scipy.stats import ttest_ind\n",
    "from scipy import stats\n",
    "from scipy.stats import mannwhitneyu"
   ]
  },
  {
   "cell_type": "code",
   "execution_count": 40,
   "metadata": {},
   "outputs": [
    {
     "name": "stdout",
     "output_type": "stream",
     "text": [
      "<class 'pandas.core.frame.DataFrame'>\n",
      "RangeIndex: 24 entries, 0 to 23\n",
      "Columns: 294 entries, RECNO to zinc\n",
      "dtypes: float64(264), int64(12), object(18)\n",
      "memory usage: 55.2+ KB\n"
     ]
    }
   ],
   "source": [
    "# Step 2: Read CSV File\n",
    "data = pd.read_csv(\"Data.csv\")\n",
    "\n",
    "data.info()"
   ]
  },
  {
   "cell_type": "code",
   "execution_count": 41,
   "metadata": {},
   "outputs": [
    {
     "data": {
      "text/html": [
       "<div>\n",
       "<style scoped>\n",
       "    .dataframe tbody tr th:only-of-type {\n",
       "        vertical-align: middle;\n",
       "    }\n",
       "\n",
       "    .dataframe tbody tr th {\n",
       "        vertical-align: top;\n",
       "    }\n",
       "\n",
       "    .dataframe thead th {\n",
       "        text-align: right;\n",
       "    }\n",
       "</style>\n",
       "<table border=\"1\" class=\"dataframe\">\n",
       "  <thead>\n",
       "    <tr style=\"text-align: right;\">\n",
       "      <th></th>\n",
       "      <th>RECNO</th>\n",
       "      <th>PFS_3</th>\n",
       "      <th>PFS_6</th>\n",
       "      <th>BCODEID</th>\n",
       "      <th>PROCDATE</th>\n",
       "      <th>STARTED</th>\n",
       "      <th>FINISHED</th>\n",
       "      <th>TIME</th>\n",
       "      <th>SRVID</th>\n",
       "      <th>Protocol</th>\n",
       "      <th>...</th>\n",
       "      <th>vitd</th>\n",
       "      <th>vitd_iu</th>\n",
       "      <th>vitd2</th>\n",
       "      <th>vitd3</th>\n",
       "      <th>vite_iu</th>\n",
       "      <th>vitk</th>\n",
       "      <th>water</th>\n",
       "      <th>wgrain</th>\n",
       "      <th>xylitol</th>\n",
       "      <th>zinc</th>\n",
       "    </tr>\n",
       "  </thead>\n",
       "  <tbody>\n",
       "    <tr>\n",
       "      <th>0</th>\n",
       "      <td>1</td>\n",
       "      <td>1</td>\n",
       "      <td>1</td>\n",
       "      <td>146102-101-029</td>\n",
       "      <td>11/16/2023</td>\n",
       "      <td>11/16/2023</td>\n",
       "      <td>11/16/2023</td>\n",
       "      <td>27</td>\n",
       "      <td>107828</td>\n",
       "      <td>Dr. Zhang microbiome Project</td>\n",
       "      <td>...</td>\n",
       "      <td>7.317863</td>\n",
       "      <td>292.714519</td>\n",
       "      <td>0.000000</td>\n",
       "      <td>7.317863</td>\n",
       "      <td>19.750822</td>\n",
       "      <td>339.253815</td>\n",
       "      <td>4509.670410</td>\n",
       "      <td>2.104521</td>\n",
       "      <td>0.021781</td>\n",
       "      <td>15.960163</td>\n",
       "    </tr>\n",
       "    <tr>\n",
       "      <th>1</th>\n",
       "      <td>2</td>\n",
       "      <td>1</td>\n",
       "      <td>1</td>\n",
       "      <td>146102-101-045</td>\n",
       "      <td>11/16/2023</td>\n",
       "      <td>10/12/2023</td>\n",
       "      <td>10/12/2023</td>\n",
       "      <td>205</td>\n",
       "      <td>106484</td>\n",
       "      <td>Dr. Zhang microbiome Project</td>\n",
       "      <td>...</td>\n",
       "      <td>5.625398</td>\n",
       "      <td>225.015926</td>\n",
       "      <td>0.000740</td>\n",
       "      <td>5.624686</td>\n",
       "      <td>14.068545</td>\n",
       "      <td>319.888824</td>\n",
       "      <td>2240.737061</td>\n",
       "      <td>1.418438</td>\n",
       "      <td>0.032384</td>\n",
       "      <td>8.326053</td>\n",
       "    </tr>\n",
       "    <tr>\n",
       "      <th>2</th>\n",
       "      <td>3</td>\n",
       "      <td>0</td>\n",
       "      <td>0</td>\n",
       "      <td>146102-101-044</td>\n",
       "      <td>11/16/2023</td>\n",
       "      <td>10/5/2023</td>\n",
       "      <td>10/5/2023</td>\n",
       "      <td>51</td>\n",
       "      <td>106209</td>\n",
       "      <td>Dr. Zhang microbiome Project</td>\n",
       "      <td>...</td>\n",
       "      <td>16.038822</td>\n",
       "      <td>641.552887</td>\n",
       "      <td>0.005726</td>\n",
       "      <td>16.033068</td>\n",
       "      <td>96.452835</td>\n",
       "      <td>193.767380</td>\n",
       "      <td>4155.129883</td>\n",
       "      <td>3.296904</td>\n",
       "      <td>0.023123</td>\n",
       "      <td>36.078709</td>\n",
       "    </tr>\n",
       "    <tr>\n",
       "      <th>3</th>\n",
       "      <td>4</td>\n",
       "      <td>1</td>\n",
       "      <td>1</td>\n",
       "      <td>146102-101-042</td>\n",
       "      <td>11/16/2023</td>\n",
       "      <td>8/24/2023</td>\n",
       "      <td>8/24/2023</td>\n",
       "      <td>58</td>\n",
       "      <td>103257</td>\n",
       "      <td>Dr. Zhang microbiome Project</td>\n",
       "      <td>...</td>\n",
       "      <td>3.134055</td>\n",
       "      <td>125.362186</td>\n",
       "      <td>0.000411</td>\n",
       "      <td>3.133671</td>\n",
       "      <td>6.663453</td>\n",
       "      <td>61.956299</td>\n",
       "      <td>2409.795654</td>\n",
       "      <td>0.583589</td>\n",
       "      <td>0.007616</td>\n",
       "      <td>5.715151</td>\n",
       "    </tr>\n",
       "    <tr>\n",
       "      <th>4</th>\n",
       "      <td>5</td>\n",
       "      <td>1</td>\n",
       "      <td>1</td>\n",
       "      <td>146102-101-041</td>\n",
       "      <td>11/16/2023</td>\n",
       "      <td>8/24/2023</td>\n",
       "      <td>8/24/2023</td>\n",
       "      <td>75</td>\n",
       "      <td>101919</td>\n",
       "      <td>Dr. Zhang microbiome Project</td>\n",
       "      <td>...</td>\n",
       "      <td>2.993014</td>\n",
       "      <td>119.720554</td>\n",
       "      <td>0.004493</td>\n",
       "      <td>2.988521</td>\n",
       "      <td>9.606547</td>\n",
       "      <td>76.282768</td>\n",
       "      <td>3885.890381</td>\n",
       "      <td>0.940027</td>\n",
       "      <td>0.011973</td>\n",
       "      <td>7.166302</td>\n",
       "    </tr>\n",
       "    <tr>\n",
       "      <th>5</th>\n",
       "      <td>6</td>\n",
       "      <td>0</td>\n",
       "      <td>0</td>\n",
       "      <td>146102-101-040</td>\n",
       "      <td>11/16/2023</td>\n",
       "      <td>7/20/2023</td>\n",
       "      <td>7/20/2023</td>\n",
       "      <td>63</td>\n",
       "      <td>101718</td>\n",
       "      <td>Dr. Zhang microbiome Project</td>\n",
       "      <td>...</td>\n",
       "      <td>4.351616</td>\n",
       "      <td>174.064655</td>\n",
       "      <td>0.010575</td>\n",
       "      <td>4.341042</td>\n",
       "      <td>11.781340</td>\n",
       "      <td>162.734863</td>\n",
       "      <td>2016.755493</td>\n",
       "      <td>1.470055</td>\n",
       "      <td>0.011507</td>\n",
       "      <td>13.470440</td>\n",
       "    </tr>\n",
       "    <tr>\n",
       "      <th>6</th>\n",
       "      <td>7</td>\n",
       "      <td>1</td>\n",
       "      <td>0</td>\n",
       "      <td>146102-101-033</td>\n",
       "      <td>11/16/2023</td>\n",
       "      <td>8/24/2022</td>\n",
       "      <td>8/24/2022</td>\n",
       "      <td>47</td>\n",
       "      <td>92318</td>\n",
       "      <td>Dr. Zhang microbiome Project</td>\n",
       "      <td>...</td>\n",
       "      <td>18.173561</td>\n",
       "      <td>726.942444</td>\n",
       "      <td>0.000767</td>\n",
       "      <td>18.172796</td>\n",
       "      <td>40.758492</td>\n",
       "      <td>504.115753</td>\n",
       "      <td>5701.455566</td>\n",
       "      <td>4.120877</td>\n",
       "      <td>0.042575</td>\n",
       "      <td>22.789619</td>\n",
       "    </tr>\n",
       "    <tr>\n",
       "      <th>7</th>\n",
       "      <td>8</td>\n",
       "      <td>0</td>\n",
       "      <td>0</td>\n",
       "      <td>146102-101-032</td>\n",
       "      <td>11/16/2023</td>\n",
       "      <td>8/5/2022</td>\n",
       "      <td>8/23/2022</td>\n",
       "      <td>25910</td>\n",
       "      <td>91670</td>\n",
       "      <td>Dr. Zhang microbiome Project</td>\n",
       "      <td>...</td>\n",
       "      <td>2.237699</td>\n",
       "      <td>89.507952</td>\n",
       "      <td>0.000192</td>\n",
       "      <td>2.237535</td>\n",
       "      <td>5.308932</td>\n",
       "      <td>21.282604</td>\n",
       "      <td>1132.744751</td>\n",
       "      <td>0.115260</td>\n",
       "      <td>0.003616</td>\n",
       "      <td>4.048821</td>\n",
       "    </tr>\n",
       "    <tr>\n",
       "      <th>8</th>\n",
       "      <td>9</td>\n",
       "      <td>1</td>\n",
       "      <td>0</td>\n",
       "      <td>146102-101-031</td>\n",
       "      <td>11/16/2023</td>\n",
       "      <td>7/20/2022</td>\n",
       "      <td>7/20/2022</td>\n",
       "      <td>44</td>\n",
       "      <td>91369</td>\n",
       "      <td>Dr. Zhang microbiome Project</td>\n",
       "      <td>...</td>\n",
       "      <td>1.610630</td>\n",
       "      <td>64.425206</td>\n",
       "      <td>0.000274</td>\n",
       "      <td>1.610356</td>\n",
       "      <td>5.696411</td>\n",
       "      <td>54.599945</td>\n",
       "      <td>1913.152588</td>\n",
       "      <td>0.037808</td>\n",
       "      <td>0.002466</td>\n",
       "      <td>3.114055</td>\n",
       "    </tr>\n",
       "    <tr>\n",
       "      <th>9</th>\n",
       "      <td>10</td>\n",
       "      <td>1</td>\n",
       "      <td>1</td>\n",
       "      <td>146102-101-027</td>\n",
       "      <td>11/16/2023</td>\n",
       "      <td>4/18/2022</td>\n",
       "      <td>4/18/2022</td>\n",
       "      <td>127</td>\n",
       "      <td>89081</td>\n",
       "      <td>Dr. Zhang microbiome Project</td>\n",
       "      <td>...</td>\n",
       "      <td>10.215205</td>\n",
       "      <td>408.608208</td>\n",
       "      <td>0.001644</td>\n",
       "      <td>10.213644</td>\n",
       "      <td>13.340355</td>\n",
       "      <td>320.162811</td>\n",
       "      <td>4631.609863</td>\n",
       "      <td>1.264575</td>\n",
       "      <td>0.040630</td>\n",
       "      <td>10.417588</td>\n",
       "    </tr>\n",
       "    <tr>\n",
       "      <th>10</th>\n",
       "      <td>11</td>\n",
       "      <td>1</td>\n",
       "      <td>1</td>\n",
       "      <td>146102-101-025</td>\n",
       "      <td>11/16/2023</td>\n",
       "      <td>2/7/2022</td>\n",
       "      <td>2/7/2022</td>\n",
       "      <td>65</td>\n",
       "      <td>86303</td>\n",
       "      <td>Dr. Zhang microbiome Project</td>\n",
       "      <td>...</td>\n",
       "      <td>7.659917</td>\n",
       "      <td>306.396694</td>\n",
       "      <td>0.003836</td>\n",
       "      <td>7.656246</td>\n",
       "      <td>13.084850</td>\n",
       "      <td>104.163086</td>\n",
       "      <td>6211.535645</td>\n",
       "      <td>1.477014</td>\n",
       "      <td>0.016849</td>\n",
       "      <td>17.243561</td>\n",
       "    </tr>\n",
       "    <tr>\n",
       "      <th>11</th>\n",
       "      <td>12</td>\n",
       "      <td>1</td>\n",
       "      <td>0</td>\n",
       "      <td>146102-101-019</td>\n",
       "      <td>11/16/2023</td>\n",
       "      <td>11/18/2021</td>\n",
       "      <td>11/18/2021</td>\n",
       "      <td>20</td>\n",
       "      <td>84801</td>\n",
       "      <td>Dr. Zhang microbiome Project</td>\n",
       "      <td>...</td>\n",
       "      <td>1.029425</td>\n",
       "      <td>41.176987</td>\n",
       "      <td>0.000219</td>\n",
       "      <td>1.029233</td>\n",
       "      <td>4.405014</td>\n",
       "      <td>41.068111</td>\n",
       "      <td>1102.195068</td>\n",
       "      <td>0.204767</td>\n",
       "      <td>0.011260</td>\n",
       "      <td>5.222164</td>\n",
       "    </tr>\n",
       "    <tr>\n",
       "      <th>12</th>\n",
       "      <td>13</td>\n",
       "      <td>1</td>\n",
       "      <td>1</td>\n",
       "      <td>146102-101-018</td>\n",
       "      <td>11/16/2023</td>\n",
       "      <td>11/1/2021</td>\n",
       "      <td>11/1/2021</td>\n",
       "      <td>30</td>\n",
       "      <td>84378</td>\n",
       "      <td>Dr. Zhang microbiome Project</td>\n",
       "      <td>...</td>\n",
       "      <td>6.411589</td>\n",
       "      <td>256.463566</td>\n",
       "      <td>0.000192</td>\n",
       "      <td>6.411425</td>\n",
       "      <td>21.686192</td>\n",
       "      <td>100.966331</td>\n",
       "      <td>2163.016846</td>\n",
       "      <td>1.544109</td>\n",
       "      <td>0.005534</td>\n",
       "      <td>12.914876</td>\n",
       "    </tr>\n",
       "    <tr>\n",
       "      <th>13</th>\n",
       "      <td>14</td>\n",
       "      <td>1</td>\n",
       "      <td>1</td>\n",
       "      <td>146102-101-017</td>\n",
       "      <td>11/16/2023</td>\n",
       "      <td>10/11/2021</td>\n",
       "      <td>10/11/2021</td>\n",
       "      <td>38</td>\n",
       "      <td>83896</td>\n",
       "      <td>Dr. Zhang microbiome Project</td>\n",
       "      <td>...</td>\n",
       "      <td>4.042027</td>\n",
       "      <td>161.681099</td>\n",
       "      <td>0.001370</td>\n",
       "      <td>4.040685</td>\n",
       "      <td>12.161263</td>\n",
       "      <td>233.532593</td>\n",
       "      <td>2478.343750</td>\n",
       "      <td>1.206904</td>\n",
       "      <td>0.014740</td>\n",
       "      <td>11.258766</td>\n",
       "    </tr>\n",
       "    <tr>\n",
       "      <th>14</th>\n",
       "      <td>15</td>\n",
       "      <td>0</td>\n",
       "      <td>0</td>\n",
       "      <td>146102-101-015</td>\n",
       "      <td>11/16/2023</td>\n",
       "      <td>9/19/2021</td>\n",
       "      <td>9/19/2021</td>\n",
       "      <td>22</td>\n",
       "      <td>82356</td>\n",
       "      <td>Dr. Zhang microbiome Project</td>\n",
       "      <td>...</td>\n",
       "      <td>3.385973</td>\n",
       "      <td>135.438919</td>\n",
       "      <td>0.000521</td>\n",
       "      <td>3.385452</td>\n",
       "      <td>7.603533</td>\n",
       "      <td>54.627773</td>\n",
       "      <td>1080.469727</td>\n",
       "      <td>0.629836</td>\n",
       "      <td>0.002658</td>\n",
       "      <td>6.788877</td>\n",
       "    </tr>\n",
       "    <tr>\n",
       "      <th>15</th>\n",
       "      <td>16</td>\n",
       "      <td>1</td>\n",
       "      <td>1</td>\n",
       "      <td>146102-101-011</td>\n",
       "      <td>11/16/2023</td>\n",
       "      <td>7/26/2021</td>\n",
       "      <td>3/7/2022</td>\n",
       "      <td>321475</td>\n",
       "      <td>81191</td>\n",
       "      <td>Dr. Zhang microbiome Project</td>\n",
       "      <td>...</td>\n",
       "      <td>2.606493</td>\n",
       "      <td>104.259729</td>\n",
       "      <td>0.000219</td>\n",
       "      <td>2.606247</td>\n",
       "      <td>16.582438</td>\n",
       "      <td>76.512749</td>\n",
       "      <td>2328.638428</td>\n",
       "      <td>0.850877</td>\n",
       "      <td>0.017452</td>\n",
       "      <td>6.238768</td>\n",
       "    </tr>\n",
       "    <tr>\n",
       "      <th>16</th>\n",
       "      <td>17</td>\n",
       "      <td>1</td>\n",
       "      <td>1</td>\n",
       "      <td>146102-101-009</td>\n",
       "      <td>11/16/2023</td>\n",
       "      <td>6/30/2021</td>\n",
       "      <td>8/28/2021</td>\n",
       "      <td>84782</td>\n",
       "      <td>80709</td>\n",
       "      <td>Dr. Zhang microbiome Project</td>\n",
       "      <td>...</td>\n",
       "      <td>2.213835</td>\n",
       "      <td>88.553419</td>\n",
       "      <td>0.000082</td>\n",
       "      <td>2.213726</td>\n",
       "      <td>7.321616</td>\n",
       "      <td>27.336002</td>\n",
       "      <td>2261.572998</td>\n",
       "      <td>0.173918</td>\n",
       "      <td>0.004959</td>\n",
       "      <td>3.717535</td>\n",
       "    </tr>\n",
       "    <tr>\n",
       "      <th>17</th>\n",
       "      <td>18</td>\n",
       "      <td>0</td>\n",
       "      <td>0</td>\n",
       "      <td>146102-101-008</td>\n",
       "      <td>11/16/2023</td>\n",
       "      <td>5/25/2021</td>\n",
       "      <td>5/25/2021</td>\n",
       "      <td>65</td>\n",
       "      <td>80071</td>\n",
       "      <td>Dr. Zhang microbiome Project</td>\n",
       "      <td>...</td>\n",
       "      <td>4.345179</td>\n",
       "      <td>173.807144</td>\n",
       "      <td>0.001342</td>\n",
       "      <td>4.343809</td>\n",
       "      <td>8.038383</td>\n",
       "      <td>75.390839</td>\n",
       "      <td>4448.206055</td>\n",
       "      <td>0.317808</td>\n",
       "      <td>0.005918</td>\n",
       "      <td>11.294657</td>\n",
       "    </tr>\n",
       "    <tr>\n",
       "      <th>18</th>\n",
       "      <td>19</td>\n",
       "      <td>1</td>\n",
       "      <td>1</td>\n",
       "      <td>146102-101-006</td>\n",
       "      <td>11/16/2023</td>\n",
       "      <td>5/4/2021</td>\n",
       "      <td>5/4/2021</td>\n",
       "      <td>42</td>\n",
       "      <td>79523</td>\n",
       "      <td>Dr. Zhang microbiome Project</td>\n",
       "      <td>...</td>\n",
       "      <td>1.897260</td>\n",
       "      <td>75.890398</td>\n",
       "      <td>0.001452</td>\n",
       "      <td>1.895863</td>\n",
       "      <td>14.486358</td>\n",
       "      <td>128.527222</td>\n",
       "      <td>3186.682129</td>\n",
       "      <td>0.720137</td>\n",
       "      <td>0.072932</td>\n",
       "      <td>12.936490</td>\n",
       "    </tr>\n",
       "    <tr>\n",
       "      <th>19</th>\n",
       "      <td>20</td>\n",
       "      <td>1</td>\n",
       "      <td>1</td>\n",
       "      <td>146102-101-007</td>\n",
       "      <td>11/16/2023</td>\n",
       "      <td>5/4/2021</td>\n",
       "      <td>5/4/2021</td>\n",
       "      <td>66</td>\n",
       "      <td>79513</td>\n",
       "      <td>Dr. Zhang microbiome Project</td>\n",
       "      <td>...</td>\n",
       "      <td>5.326822</td>\n",
       "      <td>213.072891</td>\n",
       "      <td>0.001671</td>\n",
       "      <td>5.325206</td>\n",
       "      <td>13.919755</td>\n",
       "      <td>110.038101</td>\n",
       "      <td>3525.298340</td>\n",
       "      <td>1.001644</td>\n",
       "      <td>0.010466</td>\n",
       "      <td>14.577206</td>\n",
       "    </tr>\n",
       "    <tr>\n",
       "      <th>20</th>\n",
       "      <td>21</td>\n",
       "      <td>1</td>\n",
       "      <td>0</td>\n",
       "      <td>146102-101-004</td>\n",
       "      <td>11/16/2023</td>\n",
       "      <td>4/24/2021</td>\n",
       "      <td>4/24/2021</td>\n",
       "      <td>27</td>\n",
       "      <td>79282</td>\n",
       "      <td>Dr. Zhang microbiome Project</td>\n",
       "      <td>...</td>\n",
       "      <td>4.597562</td>\n",
       "      <td>183.902474</td>\n",
       "      <td>0.000712</td>\n",
       "      <td>4.596849</td>\n",
       "      <td>26.854933</td>\n",
       "      <td>169.577484</td>\n",
       "      <td>3579.102051</td>\n",
       "      <td>2.982466</td>\n",
       "      <td>0.049288</td>\n",
       "      <td>11.681561</td>\n",
       "    </tr>\n",
       "    <tr>\n",
       "      <th>21</th>\n",
       "      <td>22</td>\n",
       "      <td>0</td>\n",
       "      <td>0</td>\n",
       "      <td>146102-101-005</td>\n",
       "      <td>11/16/2023</td>\n",
       "      <td>4/13/2021</td>\n",
       "      <td>4/13/2021</td>\n",
       "      <td>43</td>\n",
       "      <td>78956</td>\n",
       "      <td>Dr. Zhang microbiome Project</td>\n",
       "      <td>...</td>\n",
       "      <td>13.974165</td>\n",
       "      <td>558.966599</td>\n",
       "      <td>0.000630</td>\n",
       "      <td>13.973509</td>\n",
       "      <td>13.472031</td>\n",
       "      <td>162.038742</td>\n",
       "      <td>1825.277100</td>\n",
       "      <td>2.608767</td>\n",
       "      <td>0.017479</td>\n",
       "      <td>9.319754</td>\n",
       "    </tr>\n",
       "    <tr>\n",
       "      <th>22</th>\n",
       "      <td>23</td>\n",
       "      <td>1</td>\n",
       "      <td>1</td>\n",
       "      <td>146102-101-002</td>\n",
       "      <td>11/16/2023</td>\n",
       "      <td>12/23/2020</td>\n",
       "      <td>12/23/2020</td>\n",
       "      <td>42</td>\n",
       "      <td>76482</td>\n",
       "      <td>Dr. Zhang microbiome Project</td>\n",
       "      <td>...</td>\n",
       "      <td>3.943699</td>\n",
       "      <td>157.747955</td>\n",
       "      <td>0.000356</td>\n",
       "      <td>3.943343</td>\n",
       "      <td>6.583042</td>\n",
       "      <td>48.898792</td>\n",
       "      <td>1241.348511</td>\n",
       "      <td>0.596575</td>\n",
       "      <td>0.008575</td>\n",
       "      <td>6.005260</td>\n",
       "    </tr>\n",
       "    <tr>\n",
       "      <th>23</th>\n",
       "      <td>24</td>\n",
       "      <td>1</td>\n",
       "      <td>1</td>\n",
       "      <td>146102-101-001</td>\n",
       "      <td>11/16/2023</td>\n",
       "      <td>8/20/2020</td>\n",
       "      <td>8/20/2020</td>\n",
       "      <td>53</td>\n",
       "      <td>71318</td>\n",
       "      <td>Dr. Zhang microbiome Project</td>\n",
       "      <td>...</td>\n",
       "      <td>4.532876</td>\n",
       "      <td>181.315060</td>\n",
       "      <td>0.000630</td>\n",
       "      <td>4.532274</td>\n",
       "      <td>4.756219</td>\n",
       "      <td>61.825310</td>\n",
       "      <td>4893.001953</td>\n",
       "      <td>0.843726</td>\n",
       "      <td>0.009479</td>\n",
       "      <td>5.420630</td>\n",
       "    </tr>\n",
       "  </tbody>\n",
       "</table>\n",
       "<p>24 rows × 294 columns</p>\n",
       "</div>"
      ],
      "text/plain": [
       "    RECNO  PFS_3  PFS_6         BCODEID    PROCDATE     STARTED    FINISHED   \n",
       "0       1      1      1  146102-101-029  11/16/2023  11/16/2023  11/16/2023  \\\n",
       "1       2      1      1  146102-101-045  11/16/2023  10/12/2023  10/12/2023   \n",
       "2       3      0      0  146102-101-044  11/16/2023   10/5/2023   10/5/2023   \n",
       "3       4      1      1  146102-101-042  11/16/2023   8/24/2023   8/24/2023   \n",
       "4       5      1      1  146102-101-041  11/16/2023   8/24/2023   8/24/2023   \n",
       "5       6      0      0  146102-101-040  11/16/2023   7/20/2023   7/20/2023   \n",
       "6       7      1      0  146102-101-033  11/16/2023   8/24/2022   8/24/2022   \n",
       "7       8      0      0  146102-101-032  11/16/2023    8/5/2022   8/23/2022   \n",
       "8       9      1      0  146102-101-031  11/16/2023   7/20/2022   7/20/2022   \n",
       "9      10      1      1  146102-101-027  11/16/2023   4/18/2022   4/18/2022   \n",
       "10     11      1      1  146102-101-025  11/16/2023    2/7/2022    2/7/2022   \n",
       "11     12      1      0  146102-101-019  11/16/2023  11/18/2021  11/18/2021   \n",
       "12     13      1      1  146102-101-018  11/16/2023   11/1/2021   11/1/2021   \n",
       "13     14      1      1  146102-101-017  11/16/2023  10/11/2021  10/11/2021   \n",
       "14     15      0      0  146102-101-015  11/16/2023   9/19/2021   9/19/2021   \n",
       "15     16      1      1  146102-101-011  11/16/2023   7/26/2021    3/7/2022   \n",
       "16     17      1      1  146102-101-009  11/16/2023   6/30/2021   8/28/2021   \n",
       "17     18      0      0  146102-101-008  11/16/2023   5/25/2021   5/25/2021   \n",
       "18     19      1      1  146102-101-006  11/16/2023    5/4/2021    5/4/2021   \n",
       "19     20      1      1  146102-101-007  11/16/2023    5/4/2021    5/4/2021   \n",
       "20     21      1      0  146102-101-004  11/16/2023   4/24/2021   4/24/2021   \n",
       "21     22      0      0  146102-101-005  11/16/2023   4/13/2021   4/13/2021   \n",
       "22     23      1      1  146102-101-002  11/16/2023  12/23/2020  12/23/2020   \n",
       "23     24      1      1  146102-101-001  11/16/2023   8/20/2020   8/20/2020   \n",
       "\n",
       "      TIME   SRVID                      Protocol  ...       vitd     vitd_iu   \n",
       "0       27  107828  Dr. Zhang microbiome Project  ...   7.317863  292.714519  \\\n",
       "1      205  106484  Dr. Zhang microbiome Project  ...   5.625398  225.015926   \n",
       "2       51  106209  Dr. Zhang microbiome Project  ...  16.038822  641.552887   \n",
       "3       58  103257  Dr. Zhang microbiome Project  ...   3.134055  125.362186   \n",
       "4       75  101919  Dr. Zhang microbiome Project  ...   2.993014  119.720554   \n",
       "5       63  101718  Dr. Zhang microbiome Project  ...   4.351616  174.064655   \n",
       "6       47   92318  Dr. Zhang microbiome Project  ...  18.173561  726.942444   \n",
       "7    25910   91670  Dr. Zhang microbiome Project  ...   2.237699   89.507952   \n",
       "8       44   91369  Dr. Zhang microbiome Project  ...   1.610630   64.425206   \n",
       "9      127   89081  Dr. Zhang microbiome Project  ...  10.215205  408.608208   \n",
       "10      65   86303  Dr. Zhang microbiome Project  ...   7.659917  306.396694   \n",
       "11      20   84801  Dr. Zhang microbiome Project  ...   1.029425   41.176987   \n",
       "12      30   84378  Dr. Zhang microbiome Project  ...   6.411589  256.463566   \n",
       "13      38   83896  Dr. Zhang microbiome Project  ...   4.042027  161.681099   \n",
       "14      22   82356  Dr. Zhang microbiome Project  ...   3.385973  135.438919   \n",
       "15  321475   81191  Dr. Zhang microbiome Project  ...   2.606493  104.259729   \n",
       "16   84782   80709  Dr. Zhang microbiome Project  ...   2.213835   88.553419   \n",
       "17      65   80071  Dr. Zhang microbiome Project  ...   4.345179  173.807144   \n",
       "18      42   79523  Dr. Zhang microbiome Project  ...   1.897260   75.890398   \n",
       "19      66   79513  Dr. Zhang microbiome Project  ...   5.326822  213.072891   \n",
       "20      27   79282  Dr. Zhang microbiome Project  ...   4.597562  183.902474   \n",
       "21      43   78956  Dr. Zhang microbiome Project  ...  13.974165  558.966599   \n",
       "22      42   76482  Dr. Zhang microbiome Project  ...   3.943699  157.747955   \n",
       "23      53   71318  Dr. Zhang microbiome Project  ...   4.532876  181.315060   \n",
       "\n",
       "       vitd2      vitd3    vite_iu        vitk        water    wgrain   \n",
       "0   0.000000   7.317863  19.750822  339.253815  4509.670410  2.104521  \\\n",
       "1   0.000740   5.624686  14.068545  319.888824  2240.737061  1.418438   \n",
       "2   0.005726  16.033068  96.452835  193.767380  4155.129883  3.296904   \n",
       "3   0.000411   3.133671   6.663453   61.956299  2409.795654  0.583589   \n",
       "4   0.004493   2.988521   9.606547   76.282768  3885.890381  0.940027   \n",
       "5   0.010575   4.341042  11.781340  162.734863  2016.755493  1.470055   \n",
       "6   0.000767  18.172796  40.758492  504.115753  5701.455566  4.120877   \n",
       "7   0.000192   2.237535   5.308932   21.282604  1132.744751  0.115260   \n",
       "8   0.000274   1.610356   5.696411   54.599945  1913.152588  0.037808   \n",
       "9   0.001644  10.213644  13.340355  320.162811  4631.609863  1.264575   \n",
       "10  0.003836   7.656246  13.084850  104.163086  6211.535645  1.477014   \n",
       "11  0.000219   1.029233   4.405014   41.068111  1102.195068  0.204767   \n",
       "12  0.000192   6.411425  21.686192  100.966331  2163.016846  1.544109   \n",
       "13  0.001370   4.040685  12.161263  233.532593  2478.343750  1.206904   \n",
       "14  0.000521   3.385452   7.603533   54.627773  1080.469727  0.629836   \n",
       "15  0.000219   2.606247  16.582438   76.512749  2328.638428  0.850877   \n",
       "16  0.000082   2.213726   7.321616   27.336002  2261.572998  0.173918   \n",
       "17  0.001342   4.343809   8.038383   75.390839  4448.206055  0.317808   \n",
       "18  0.001452   1.895863  14.486358  128.527222  3186.682129  0.720137   \n",
       "19  0.001671   5.325206  13.919755  110.038101  3525.298340  1.001644   \n",
       "20  0.000712   4.596849  26.854933  169.577484  3579.102051  2.982466   \n",
       "21  0.000630  13.973509  13.472031  162.038742  1825.277100  2.608767   \n",
       "22  0.000356   3.943343   6.583042   48.898792  1241.348511  0.596575   \n",
       "23  0.000630   4.532274   4.756219   61.825310  4893.001953  0.843726   \n",
       "\n",
       "     xylitol       zinc  \n",
       "0   0.021781  15.960163  \n",
       "1   0.032384   8.326053  \n",
       "2   0.023123  36.078709  \n",
       "3   0.007616   5.715151  \n",
       "4   0.011973   7.166302  \n",
       "5   0.011507  13.470440  \n",
       "6   0.042575  22.789619  \n",
       "7   0.003616   4.048821  \n",
       "8   0.002466   3.114055  \n",
       "9   0.040630  10.417588  \n",
       "10  0.016849  17.243561  \n",
       "11  0.011260   5.222164  \n",
       "12  0.005534  12.914876  \n",
       "13  0.014740  11.258766  \n",
       "14  0.002658   6.788877  \n",
       "15  0.017452   6.238768  \n",
       "16  0.004959   3.717535  \n",
       "17  0.005918  11.294657  \n",
       "18  0.072932  12.936490  \n",
       "19  0.010466  14.577206  \n",
       "20  0.049288  11.681561  \n",
       "21  0.017479   9.319754  \n",
       "22  0.008575   6.005260  \n",
       "23  0.009479   5.420630  \n",
       "\n",
       "[24 rows x 294 columns]"
      ]
     },
     "execution_count": 41,
     "metadata": {},
     "output_type": "execute_result"
    }
   ],
   "source": [
    "data"
   ]
  },
  {
   "cell_type": "code",
   "execution_count": 42,
   "metadata": {},
   "outputs": [
    {
     "data": {
      "text/html": [
       "<div>\n",
       "<style scoped>\n",
       "    .dataframe tbody tr th:only-of-type {\n",
       "        vertical-align: middle;\n",
       "    }\n",
       "\n",
       "    .dataframe tbody tr th {\n",
       "        vertical-align: top;\n",
       "    }\n",
       "\n",
       "    .dataframe thead th {\n",
       "        text-align: right;\n",
       "    }\n",
       "</style>\n",
       "<table border=\"1\" class=\"dataframe\">\n",
       "  <thead>\n",
       "    <tr style=\"text-align: right;\">\n",
       "      <th></th>\n",
       "      <th>alcohol</th>\n",
       "    </tr>\n",
       "  </thead>\n",
       "  <tbody>\n",
       "    <tr>\n",
       "      <th>0</th>\n",
       "      <td>0.000000</td>\n",
       "    </tr>\n",
       "    <tr>\n",
       "      <th>1</th>\n",
       "      <td>23.236631</td>\n",
       "    </tr>\n",
       "    <tr>\n",
       "      <th>2</th>\n",
       "      <td>0.000521</td>\n",
       "    </tr>\n",
       "    <tr>\n",
       "      <th>3</th>\n",
       "      <td>0.915808</td>\n",
       "    </tr>\n",
       "    <tr>\n",
       "      <th>4</th>\n",
       "      <td>0.000000</td>\n",
       "    </tr>\n",
       "    <tr>\n",
       "      <th>5</th>\n",
       "      <td>0.006356</td>\n",
       "    </tr>\n",
       "    <tr>\n",
       "      <th>6</th>\n",
       "      <td>0.069726</td>\n",
       "    </tr>\n",
       "    <tr>\n",
       "      <th>7</th>\n",
       "      <td>0.012384</td>\n",
       "    </tr>\n",
       "    <tr>\n",
       "      <th>8</th>\n",
       "      <td>0.011397</td>\n",
       "    </tr>\n",
       "    <tr>\n",
       "      <th>9</th>\n",
       "      <td>16.439013</td>\n",
       "    </tr>\n",
       "    <tr>\n",
       "      <th>10</th>\n",
       "      <td>3.078986</td>\n",
       "    </tr>\n",
       "    <tr>\n",
       "      <th>11</th>\n",
       "      <td>0.000712</td>\n",
       "    </tr>\n",
       "    <tr>\n",
       "      <th>12</th>\n",
       "      <td>0.000000</td>\n",
       "    </tr>\n",
       "    <tr>\n",
       "      <th>13</th>\n",
       "      <td>0.823507</td>\n",
       "    </tr>\n",
       "    <tr>\n",
       "      <th>14</th>\n",
       "      <td>0.038685</td>\n",
       "    </tr>\n",
       "    <tr>\n",
       "      <th>15</th>\n",
       "      <td>0.102164</td>\n",
       "    </tr>\n",
       "    <tr>\n",
       "      <th>16</th>\n",
       "      <td>0.010959</td>\n",
       "    </tr>\n",
       "    <tr>\n",
       "      <th>17</th>\n",
       "      <td>0.040548</td>\n",
       "    </tr>\n",
       "    <tr>\n",
       "      <th>18</th>\n",
       "      <td>54.430470</td>\n",
       "    </tr>\n",
       "    <tr>\n",
       "      <th>19</th>\n",
       "      <td>3.518685</td>\n",
       "    </tr>\n",
       "    <tr>\n",
       "      <th>20</th>\n",
       "      <td>0.000000</td>\n",
       "    </tr>\n",
       "    <tr>\n",
       "      <th>21</th>\n",
       "      <td>23.781534</td>\n",
       "    </tr>\n",
       "    <tr>\n",
       "      <th>22</th>\n",
       "      <td>33.330822</td>\n",
       "    </tr>\n",
       "    <tr>\n",
       "      <th>23</th>\n",
       "      <td>3.655890</td>\n",
       "    </tr>\n",
       "  </tbody>\n",
       "</table>\n",
       "</div>"
      ],
      "text/plain": [
       "      alcohol\n",
       "0    0.000000\n",
       "1   23.236631\n",
       "2    0.000521\n",
       "3    0.915808\n",
       "4    0.000000\n",
       "5    0.006356\n",
       "6    0.069726\n",
       "7    0.012384\n",
       "8    0.011397\n",
       "9   16.439013\n",
       "10   3.078986\n",
       "11   0.000712\n",
       "12   0.000000\n",
       "13   0.823507\n",
       "14   0.038685\n",
       "15   0.102164\n",
       "16   0.010959\n",
       "17   0.040548\n",
       "18  54.430470\n",
       "19   3.518685\n",
       "20   0.000000\n",
       "21  23.781534\n",
       "22  33.330822\n",
       "23   3.655890"
      ]
     },
     "execution_count": 42,
     "metadata": {},
     "output_type": "execute_result"
    }
   ],
   "source": [
    "# Step 4: Split Data\n",
    "X = data[['alcohol']]\n",
    "y = data['PFS_6']  # Target variable\n",
    "X"
   ]
  },
  {
   "cell_type": "code",
   "execution_count": 43,
   "metadata": {},
   "outputs": [
    {
     "name": "stdout",
     "output_type": "stream",
     "text": [
      "Accuracy: 0.8\n",
      "Classification Report:\n",
      "              precision    recall  f1-score   support\n",
      "\n",
      "           0       0.67      1.00      0.80         2\n",
      "           1       1.00      0.67      0.80         3\n",
      "\n",
      "    accuracy                           0.80         5\n",
      "   macro avg       0.83      0.83      0.80         5\n",
      "weighted avg       0.87      0.80      0.80         5\n",
      "\n"
     ]
    }
   ],
   "source": [
    "# Step 5: Train-Test Split\n",
    "X_train, X_test, y_train, y_test = train_test_split(X, y, test_size=0.2, random_state=42)\n",
    "\n",
    "# Step 6: Train Random Forest Model\n",
    "rf_model = RandomForestClassifier(n_estimators=100, random_state=42)\n",
    "rf_model.fit(X_train, y_train)\n",
    "\n",
    "# Step 7: Evaluate Model\n",
    "y_pred = rf_model.predict(X_test)\n",
    "\n",
    "# Step 8: Report Results\n",
    "accuracy = accuracy_score(y_test, y_pred)\n",
    "print(\"Accuracy:\", accuracy)\n",
    "print(\"Classification Report:\")\n",
    "print(classification_report(y_test, y_pred))\n"
   ]
  },
  {
   "cell_type": "code",
   "execution_count": 44,
   "metadata": {},
   "outputs": [
    {
     "name": "stdout",
     "output_type": "stream",
     "text": [
      "Accuracy: 0.6\n",
      "Classification Report:\n",
      "              precision    recall  f1-score   support\n",
      "\n",
      "           0       0.50      0.50      0.50         2\n",
      "           1       0.67      0.67      0.67         3\n",
      "\n",
      "    accuracy                           0.60         5\n",
      "   macro avg       0.58      0.58      0.58         5\n",
      "weighted avg       0.60      0.60      0.60         5\n",
      "\n"
     ]
    }
   ],
   "source": [
    "# Step 4: Split Data\n",
    "X = data[['addsugar']]\n",
    "y = data['PFS_6']  # Target variable\n",
    "# Step 5: Train-Test Split\n",
    "X_train, X_test, y_train, y_test = train_test_split(X, y, test_size=0.2, random_state=42)\n",
    "\n",
    "# Step 6: Train Random Forest Model\n",
    "rf_model = RandomForestClassifier(n_estimators=100, random_state=42)\n",
    "rf_model.fit(X_train, y_train)\n",
    "\n",
    "# Step 7: Evaluate Model\n",
    "y_pred = rf_model.predict(X_test)\n",
    "\n",
    "# Step 8: Report Results\n",
    "accuracy = accuracy_score(y_test, y_pred)\n",
    "print(\"Accuracy:\", accuracy)\n",
    "print(\"Classification Report:\")\n",
    "print(classification_report(y_test, y_pred))"
   ]
  },
  {
   "attachments": {},
   "cell_type": "markdown",
   "metadata": {},
   "source": [
    "alcohol"
   ]
  },
  {
   "cell_type": "code",
   "execution_count": 45,
   "metadata": {},
   "outputs": [
    {
     "data": {
      "text/plain": [
       "2      0.000521\n",
       "5      0.006356\n",
       "6      0.069726\n",
       "7      0.012384\n",
       "8      0.011397\n",
       "11     0.000712\n",
       "14     0.038685\n",
       "17     0.040548\n",
       "20     0.000000\n",
       "21    23.781534\n",
       "Name: alcohol, dtype: float64"
      ]
     },
     "execution_count": 45,
     "metadata": {},
     "output_type": "execute_result"
    }
   ],
   "source": [
    "# Separate data into two groups based on PFS value (0 and 1)\n",
    "pfs_0 = data[data['PFS_6'] == 0]['alcohol']\n",
    "pfs_1 = data[data['PFS_6'] == 1]['alcohol']\n",
    "\n",
    "pfs_0\n"
   ]
  },
  {
   "cell_type": "code",
   "execution_count": 46,
   "metadata": {},
   "outputs": [
    {
     "data": {
      "text/plain": [
       "0      0.000000\n",
       "1     23.236631\n",
       "3      0.915808\n",
       "4      0.000000\n",
       "9     16.439013\n",
       "10     3.078986\n",
       "12     0.000000\n",
       "13     0.823507\n",
       "15     0.102164\n",
       "16     0.010959\n",
       "18    54.430470\n",
       "19     3.518685\n",
       "22    33.330822\n",
       "23     3.655890\n",
       "Name: alcohol, dtype: float64"
      ]
     },
     "execution_count": 46,
     "metadata": {},
     "output_type": "execute_result"
    }
   ],
   "source": [
    "pfs_1"
   ]
  },
  {
   "cell_type": "code",
   "execution_count": 47,
   "metadata": {},
   "outputs": [
    {
     "name": "stdout",
     "output_type": "stream",
     "text": [
      "t-statistic: -1.3497652076913176\n",
      "p-value: 0.19081722820718738\n"
     ]
    }
   ],
   "source": [
    "# Perform t-test\n",
    "t_statistic, p_value = ttest_ind(pfs_0, pfs_1)\n",
    "\n",
    "print(\"t-statistic:\", t_statistic)\n",
    "print(\"p-value:\", p_value)"
   ]
  },
  {
   "cell_type": "code",
   "execution_count": 48,
   "metadata": {},
   "outputs": [
    {
     "name": "stdout",
     "output_type": "stream",
     "text": [
      "t-statistic: 0.9861664516676912\n",
      "p-value: 0.3347738713259173\n"
     ]
    }
   ],
   "source": [
    "ala_0 = data[data['PFS_6'] == 0]['alanine']\n",
    "ala_1 = data[data['PFS_6'] == 1]['alanine']\n",
    "\n",
    "# Perform t-test\n",
    "t_statistic, p_value = ttest_ind(ala_0, ala_1)\n",
    "\n",
    "print(\"t-statistic:\", t_statistic)\n",
    "print(\"p-value:\", p_value)"
   ]
  },
  {
   "cell_type": "code",
   "execution_count": 49,
   "metadata": {},
   "outputs": [
    {
     "name": "stdout",
     "output_type": "stream",
     "text": [
      "t-statistic: 0.7287053744061905\n",
      "p-value: 0.4738683095702483\n"
     ]
    }
   ],
   "source": [
    "ace_0 = data[data['PFS_6'] == 0]['acesupot']\n",
    "ace_1 = data[data['PFS_6'] == 1]['acesupot']\n",
    "\n",
    "# Perform t-test\n",
    "t_statistic, p_value = ttest_ind(ace_0, ace_1)\n",
    "\n",
    "print(\"t-statistic:\", t_statistic)\n",
    "print(\"p-value:\", p_value)"
   ]
  },
  {
   "cell_type": "code",
   "execution_count": 50,
   "metadata": {},
   "outputs": [
    {
     "name": "stdout",
     "output_type": "stream",
     "text": [
      "t-statistic: -0.5365612705565524\n",
      "p-value: 0.5969554046185446\n"
     ]
    }
   ],
   "source": [
    "ace_0 = data[data['PFS_6'] == 0]['adsugtot']\n",
    "ace_1 = data[data['PFS_6'] == 1]['adsugtot']\n",
    "\n",
    "# Perform t-test\n",
    "t_statistic, p_value = ttest_ind(ace_0, ace_1)\n",
    "\n",
    "print(\"t-statistic:\", t_statistic)\n",
    "print(\"p-value:\", p_value)"
   ]
  },
  {
   "cell_type": "code",
   "execution_count": 51,
   "metadata": {},
   "outputs": [
    {
     "name": "stdout",
     "output_type": "stream",
     "text": [
      "t-statistic: 0.19452525836281317\n",
      "p-value: 0.8475497480074754\n"
     ]
    }
   ],
   "source": [
    "aspartam_0 = data[data['PFS_6'] == 0]['aspartam']\n",
    "aspartam_1 = data[data['PFS_6'] == 1]['aspartam']\n",
    "\n",
    "# Perform t-test\n",
    "t_statistic, p_value = ttest_ind(aspartam_0, aspartam_1)\n",
    "\n",
    "print(\"t-statistic:\", t_statistic)\n",
    "print(\"p-value:\", p_value)"
   ]
  },
  {
   "cell_type": "code",
   "execution_count": 52,
   "metadata": {},
   "outputs": [
    {
     "name": "stdout",
     "output_type": "stream",
     "text": [
      "t-statistic: 0.6059561241807784\n",
      "p-value: 0.5507453098245457\n"
     ]
    }
   ],
   "source": [
    "ash_0 = data[data['PFS_6'] == 0]['ash']\n",
    "ash_1 = data[data['PFS_6'] == 1]['ash']\n",
    "\n",
    "# Perform t-test\n",
    "t_statistic, p_value = ttest_ind(ash_0, ash_1)\n",
    "\n",
    "print(\"t-statistic:\", t_statistic)\n",
    "print(\"p-value:\", p_value)"
   ]
  },
  {
   "cell_type": "code",
   "execution_count": 53,
   "metadata": {},
   "outputs": [
    {
     "name": "stdout",
     "output_type": "stream",
     "text": [
      "t-statistic: 1.3142364671142486\n",
      "p-value: 0.20230518690884877\n"
     ]
    }
   ],
   "source": [
    "alphtoce_0 = data[data['PFS_6'] == 0]['alphtoce']\n",
    "alphtoce_1 = data[data['PFS_6'] == 1]['alphtoce']\n",
    "\n",
    "# Perform t-test\n",
    "t_statistic, p_value = ttest_ind(alphtoce_0, alphtoce_1)\n",
    "\n",
    "print(\"t-statistic:\", t_statistic)\n",
    "print(\"p-value:\", p_value)"
   ]
  },
  {
   "cell_type": "code",
   "execution_count": 54,
   "metadata": {},
   "outputs": [
    {
     "name": "stdout",
     "output_type": "stream",
     "text": [
      "t-statistic: 1.1770495260939922\n",
      "p-value: 0.251753852915809\n"
     ]
    }
   ],
   "source": [
    "alphtoco_0 = data[data['PFS_6'] == 0]['alphtoco']\n",
    "alphtoco_1 = data[data['PFS_6'] == 1]['alphtoco']\n",
    "\n",
    "# Perform t-test\n",
    "t_statistic, p_value = ttest_ind(alphtoco_0, alphtoco_1)\n",
    "\n",
    "print(\"t-statistic:\", t_statistic)\n",
    "print(\"p-value:\", p_value)"
   ]
  },
  {
   "cell_type": "code",
   "execution_count": 55,
   "metadata": {},
   "outputs": [
    {
     "name": "stdout",
     "output_type": "stream",
     "text": [
      "t-statistic: 0.9441359549839047\n",
      "p-value: 0.3553543483872631\n"
     ]
    }
   ],
   "source": [
    "arginine_0 = data[data['PFS_6'] == 0]['arginine']\n",
    "arginine_1 = data[data['PFS_6'] == 1]['arginine']\n",
    "\n",
    "# Perform t-test\n",
    "t_statistic, p_value = ttest_ind(arginine_0, arginine_1)\n",
    "\n",
    "print(\"t-statistic:\", t_statistic)\n",
    "print(\"p-value:\", p_value)"
   ]
  },
  {
   "cell_type": "code",
   "execution_count": 56,
   "metadata": {},
   "outputs": [
    {
     "name": "stdout",
     "output_type": "stream",
     "text": [
      "t-statistic: 0.19452525836281317\n",
      "p-value: 0.8475497480074754\n"
     ]
    }
   ],
   "source": [
    "aspartam_0 = data[data['PFS_6'] == 0]['aspartam']\n",
    "aspartam_1 = data[data['PFS_6'] == 1]['aspartam']\n",
    "\n",
    "# Perform t-test\n",
    "t_statistic, p_value = ttest_ind(aspartam_0, aspartam_1)\n",
    "\n",
    "print(\"t-statistic:\", t_statistic)\n",
    "print(\"p-value:\", p_value)"
   ]
  },
  {
   "cell_type": "code",
   "execution_count": 57,
   "metadata": {},
   "outputs": [
    {
     "name": "stdout",
     "output_type": "stream",
     "text": [
      "t-statistic: 1.0697350954333154\n",
      "p-value: 0.2963354421844253\n"
     ]
    }
   ],
   "source": [
    "aspartic_0 = data[data['PFS_6'] == 0]['aspartic']\n",
    "aspartic_1 = data[data['PFS_6'] == 1]['aspartic']\n",
    "\n",
    "# Perform t-test\n",
    "t_statistic, p_value = ttest_ind(aspartic_0, aspartic_1)\n",
    "\n",
    "print(\"t-statistic:\", t_statistic)\n",
    "print(\"p-value:\", p_value)"
   ]
  },
  {
   "cell_type": "code",
   "execution_count": 58,
   "metadata": {},
   "outputs": [
    {
     "name": "stdout",
     "output_type": "stream",
     "text": [
      "t-statistic: 0.4153656741486187\n",
      "p-value: 0.6818974377614881\n"
     ]
    }
   ],
   "source": [
    "avcarb_0 = data[data['PFS_6'] == 0]['avcarb']\n",
    "avcarb_1 = data[data['PFS_6'] == 1]['avcarb']\n",
    "\n",
    "# Perform t-test\n",
    "t_statistic, p_value = ttest_ind(avcarb_0, avcarb_1)\n",
    "\n",
    "print(\"t-statistic:\", t_statistic)\n",
    "print(\"p-value:\", p_value)"
   ]
  },
  {
   "cell_type": "code",
   "execution_count": 59,
   "metadata": {},
   "outputs": [
    {
     "name": "stdout",
     "output_type": "stream",
     "text": [
      "t-statistic: 0.4153656741486187\n",
      "p-value: 0.6818974377614881\n"
     ]
    }
   ],
   "source": [
    "avcarb_0 = data[data['PFS_6'] == 0]['avcarb']\n",
    "avcarb_1 = data[data['PFS_6'] == 1]['avcarb']\n",
    "\n",
    "# Perform t-test\n",
    "t_statistic, p_value = ttest_ind(avcarb_0, avcarb_1)\n",
    "\n",
    "print(\"t-statistic:\", t_statistic)\n",
    "print(\"p-value:\", p_value)"
   ]
  },
  {
   "cell_type": "code",
   "execution_count": 60,
   "metadata": {},
   "outputs": [
    {
     "name": "stdout",
     "output_type": "stream",
     "text": [
      "t-statistic: 0.3074215578301061\n",
      "p-value: 0.7614138460556776\n"
     ]
    }
   ],
   "source": [
    "avcarb_0_3 = data[data['PFS_3'] == 0]['avcarb']\n",
    "avcarb_1_3 = data[data['PFS_3'] == 1]['avcarb']\n",
    "\n",
    "# Perform t-test\n",
    "t_statistic, p_value = ttest_ind(avcarb_0_3, avcarb_1_3)\n",
    "\n",
    "print(\"t-statistic:\", t_statistic)\n",
    "print(\"p-value:\", p_value)"
   ]
  },
  {
   "cell_type": "code",
   "execution_count": 61,
   "metadata": {},
   "outputs": [],
   "source": [
    "def compute_ttest_pvalues(data, group_column):\n",
    "    \"\"\"\n",
    "    Compute t-test p-values for each numeric column in data, comparing values\n",
    "    based on the group_column.\n",
    "\n",
    "    Parameters:\n",
    "    - data: DataFrame containing the data\n",
    "    - group_column: Column name used for grouping (e.g., 'PFS')\n",
    "    - value_column: Column name containing numeric values to test (e.g., 'alanine')\n",
    "\n",
    "    Returns:\n",
    "    - DataFrame with columns 'feature', 't-statistic', 'p-value' \n",
    "      containing the results of t-tests for each numeric column\n",
    "    \"\"\"\n",
    "    results = []\n",
    "\n",
    "    # Iterate over each numeric column in the DataFrame\n",
    "    for column in data.select_dtypes(include=[np.number]).columns:\n",
    "      # print(column)\n",
    "    #     if column != group_column and column != value_column:\n",
    "        ala_0 = data[data[group_column] == 0][column]\n",
    "        ala_1 = data[data[group_column] == 2][column]\n",
    "\n",
    "            # Perform t-test\n",
    "        u_statistic, p_value = mannwhitneyu(ala_0, ala_1)\n",
    "\n",
    "            # Append results to the list\n",
    "        results.append({'feature': column,\n",
    "                            'u-statistic': u_statistic,\n",
    "                            'p-value': p_value})\n",
    "\n",
    "    # Create a DataFrame from the results list\n",
    "    results_df = pd.DataFrame(results)\n",
    "\n",
    "    return results_df\n"
   ]
  },
  {
   "cell_type": "code",
   "execution_count": 62,
   "metadata": {},
   "outputs": [
    {
     "name": "stdout",
     "output_type": "stream",
     "text": [
      "<class 'pandas.core.frame.DataFrame'>\n",
      "RangeIndex: 23 entries, 0 to 22\n",
      "Columns: 295 entries, RECNO to zinc\n",
      "dtypes: float64(264), int64(13), object(18)\n",
      "memory usage: 53.1+ KB\n"
     ]
    }
   ],
   "source": [
    "# Step 2: Read CSV File\n",
    "data_f = pd.read_csv(\"Data_filtered.csv\")\n",
    "\n",
    "data_f.info()"
   ]
  },
  {
   "cell_type": "code",
   "execution_count": 63,
   "metadata": {},
   "outputs": [],
   "source": [
    "group_column = 'PFS_3_6'\n",
    "p_values_df = compute_ttest_pvalues(data_f, group_column)\n",
    "p_values_df.to_csv(\"PFS_3_6_f.csv\", index=False)\n",
    "# group_column = 'PFS_3'\n",
    "# p_values_df = compute_ttest_pvalues(data_f, group_column)\n",
    "# p_values_df.to_csv(\"PFS_3_f.csv\", index=False)"
   ]
  },
  {
   "cell_type": "code",
   "execution_count": 64,
   "metadata": {},
   "outputs": [
    {
     "data": {
      "text/html": [
       "<div>\n",
       "<style scoped>\n",
       "    .dataframe tbody tr th:only-of-type {\n",
       "        vertical-align: middle;\n",
       "    }\n",
       "\n",
       "    .dataframe tbody tr th {\n",
       "        vertical-align: top;\n",
       "    }\n",
       "\n",
       "    .dataframe thead th {\n",
       "        text-align: right;\n",
       "    }\n",
       "</style>\n",
       "<table border=\"1\" class=\"dataframe\">\n",
       "  <thead>\n",
       "    <tr style=\"text-align: right;\">\n",
       "      <th></th>\n",
       "      <th>glycine</th>\n",
       "      <th>serine</th>\n",
       "    </tr>\n",
       "  </thead>\n",
       "  <tbody>\n",
       "    <tr>\n",
       "      <th>0</th>\n",
       "      <td>3.542630</td>\n",
       "      <td>4.985178</td>\n",
       "    </tr>\n",
       "    <tr>\n",
       "      <th>1</th>\n",
       "      <td>2.241452</td>\n",
       "      <td>2.503151</td>\n",
       "    </tr>\n",
       "    <tr>\n",
       "      <th>3</th>\n",
       "      <td>1.710465</td>\n",
       "      <td>2.029507</td>\n",
       "    </tr>\n",
       "    <tr>\n",
       "      <th>4</th>\n",
       "      <td>1.548986</td>\n",
       "      <td>2.874110</td>\n",
       "    </tr>\n",
       "    <tr>\n",
       "      <th>9</th>\n",
       "      <td>3.839343</td>\n",
       "      <td>3.821096</td>\n",
       "    </tr>\n",
       "    <tr>\n",
       "      <th>10</th>\n",
       "      <td>4.391369</td>\n",
       "      <td>4.710850</td>\n",
       "    </tr>\n",
       "    <tr>\n",
       "      <th>12</th>\n",
       "      <td>3.167616</td>\n",
       "      <td>3.255479</td>\n",
       "    </tr>\n",
       "    <tr>\n",
       "      <th>13</th>\n",
       "      <td>4.414603</td>\n",
       "      <td>4.130822</td>\n",
       "    </tr>\n",
       "    <tr>\n",
       "      <th>15</th>\n",
       "      <td>1.108877</td>\n",
       "      <td>1.496849</td>\n",
       "    </tr>\n",
       "    <tr>\n",
       "      <th>16</th>\n",
       "      <td>0.853808</td>\n",
       "      <td>1.032658</td>\n",
       "    </tr>\n",
       "    <tr>\n",
       "      <th>17</th>\n",
       "      <td>4.293287</td>\n",
       "      <td>3.683863</td>\n",
       "    </tr>\n",
       "    <tr>\n",
       "      <th>18</th>\n",
       "      <td>3.625780</td>\n",
       "      <td>3.873507</td>\n",
       "    </tr>\n",
       "    <tr>\n",
       "      <th>21</th>\n",
       "      <td>1.920247</td>\n",
       "      <td>2.299589</td>\n",
       "    </tr>\n",
       "    <tr>\n",
       "      <th>22</th>\n",
       "      <td>1.462055</td>\n",
       "      <td>1.979863</td>\n",
       "    </tr>\n",
       "  </tbody>\n",
       "</table>\n",
       "</div>"
      ],
      "text/plain": [
       "     glycine    serine\n",
       "0   3.542630  4.985178\n",
       "1   2.241452  2.503151\n",
       "3   1.710465  2.029507\n",
       "4   1.548986  2.874110\n",
       "9   3.839343  3.821096\n",
       "10  4.391369  4.710850\n",
       "12  3.167616  3.255479\n",
       "13  4.414603  4.130822\n",
       "15  1.108877  1.496849\n",
       "16  0.853808  1.032658\n",
       "17  4.293287  3.683863\n",
       "18  3.625780  3.873507\n",
       "21  1.920247  2.299589\n",
       "22  1.462055  1.979863"
      ]
     },
     "execution_count": 64,
     "metadata": {},
     "output_type": "execute_result"
    }
   ],
   "source": [
    "pfs1 = data_f[data_f['PFS_3_6'] == 2][['glycine', 'serine']]\n",
    "pfs0 = data_f[data_f['PFS_3_6'] == 0][['glycine', 'serine']]\n",
    "pfs1"
   ]
  },
  {
   "cell_type": "code",
   "execution_count": 65,
   "metadata": {},
   "outputs": [
    {
     "name": "stdout",
     "output_type": "stream",
     "text": [
      "F-statistic: [2.20681627 2.33599917]\n",
      "p-value: [0.15571041 0.14480648]\n"
     ]
    }
   ],
   "source": [
    "\n",
    "\n",
    "f_stat, p_val = stats.f_oneway(pfs1, pfs0)\n",
    "print(\"F-statistic:\", f_stat)\n",
    "print(\"p-value:\", p_val)"
   ]
  },
  {
   "cell_type": "code",
   "execution_count": 66,
   "metadata": {},
   "outputs": [
    {
     "data": {
      "text/html": [
       "<div>\n",
       "<style scoped>\n",
       "    .dataframe tbody tr th:only-of-type {\n",
       "        vertical-align: middle;\n",
       "    }\n",
       "\n",
       "    .dataframe tbody tr th {\n",
       "        vertical-align: top;\n",
       "    }\n",
       "\n",
       "    .dataframe thead th {\n",
       "        text-align: right;\n",
       "    }\n",
       "</style>\n",
       "<table border=\"1\" class=\"dataframe\">\n",
       "  <thead>\n",
       "    <tr style=\"text-align: right;\">\n",
       "      <th></th>\n",
       "      <th>glycine</th>\n",
       "      <th>serine</th>\n",
       "    </tr>\n",
       "  </thead>\n",
       "  <tbody>\n",
       "    <tr>\n",
       "      <th>0</th>\n",
       "      <td>3.542630</td>\n",
       "      <td>4.985178</td>\n",
       "    </tr>\n",
       "    <tr>\n",
       "      <th>1</th>\n",
       "      <td>2.241452</td>\n",
       "      <td>2.503151</td>\n",
       "    </tr>\n",
       "    <tr>\n",
       "      <th>3</th>\n",
       "      <td>1.710465</td>\n",
       "      <td>2.029507</td>\n",
       "    </tr>\n",
       "    <tr>\n",
       "      <th>4</th>\n",
       "      <td>1.548986</td>\n",
       "      <td>2.874110</td>\n",
       "    </tr>\n",
       "    <tr>\n",
       "      <th>9</th>\n",
       "      <td>3.839343</td>\n",
       "      <td>3.821096</td>\n",
       "    </tr>\n",
       "    <tr>\n",
       "      <th>10</th>\n",
       "      <td>4.391369</td>\n",
       "      <td>4.710850</td>\n",
       "    </tr>\n",
       "    <tr>\n",
       "      <th>12</th>\n",
       "      <td>3.167616</td>\n",
       "      <td>3.255479</td>\n",
       "    </tr>\n",
       "    <tr>\n",
       "      <th>13</th>\n",
       "      <td>4.414603</td>\n",
       "      <td>4.130822</td>\n",
       "    </tr>\n",
       "    <tr>\n",
       "      <th>15</th>\n",
       "      <td>1.108877</td>\n",
       "      <td>1.496849</td>\n",
       "    </tr>\n",
       "    <tr>\n",
       "      <th>16</th>\n",
       "      <td>0.853808</td>\n",
       "      <td>1.032658</td>\n",
       "    </tr>\n",
       "    <tr>\n",
       "      <th>17</th>\n",
       "      <td>4.293287</td>\n",
       "      <td>3.683863</td>\n",
       "    </tr>\n",
       "    <tr>\n",
       "      <th>18</th>\n",
       "      <td>3.625780</td>\n",
       "      <td>3.873507</td>\n",
       "    </tr>\n",
       "    <tr>\n",
       "      <th>21</th>\n",
       "      <td>1.920247</td>\n",
       "      <td>2.299589</td>\n",
       "    </tr>\n",
       "    <tr>\n",
       "      <th>22</th>\n",
       "      <td>1.462055</td>\n",
       "      <td>1.979863</td>\n",
       "    </tr>\n",
       "  </tbody>\n",
       "</table>\n",
       "</div>"
      ],
      "text/plain": [
       "     glycine    serine\n",
       "0   3.542630  4.985178\n",
       "1   2.241452  2.503151\n",
       "3   1.710465  2.029507\n",
       "4   1.548986  2.874110\n",
       "9   3.839343  3.821096\n",
       "10  4.391369  4.710850\n",
       "12  3.167616  3.255479\n",
       "13  4.414603  4.130822\n",
       "15  1.108877  1.496849\n",
       "16  0.853808  1.032658\n",
       "17  4.293287  3.683863\n",
       "18  3.625780  3.873507\n",
       "21  1.920247  2.299589\n",
       "22  1.462055  1.979863"
      ]
     },
     "execution_count": 66,
     "metadata": {},
     "output_type": "execute_result"
    }
   ],
   "source": [
    "pfs1 = data_f[data_f['PFS_3_6'] == 2][['glycine', 'serine']]\n",
    "pfs1"
   ]
  },
  {
   "cell_type": "code",
   "execution_count": 67,
   "metadata": {},
   "outputs": [
    {
     "data": {
      "text/html": [
       "<div>\n",
       "<style scoped>\n",
       "    .dataframe tbody tr th:only-of-type {\n",
       "        vertical-align: middle;\n",
       "    }\n",
       "\n",
       "    .dataframe tbody tr th {\n",
       "        vertical-align: top;\n",
       "    }\n",
       "\n",
       "    .dataframe thead th {\n",
       "        text-align: right;\n",
       "    }\n",
       "</style>\n",
       "<table border=\"1\" class=\"dataframe\">\n",
       "  <thead>\n",
       "    <tr style=\"text-align: right;\">\n",
       "      <th></th>\n",
       "      <th>glycine</th>\n",
       "      <th>serine</th>\n",
       "    </tr>\n",
       "  </thead>\n",
       "  <tbody>\n",
       "    <tr>\n",
       "      <th>2</th>\n",
       "      <td>10.655315</td>\n",
       "      <td>11.214330</td>\n",
       "    </tr>\n",
       "    <tr>\n",
       "      <th>5</th>\n",
       "      <td>4.389753</td>\n",
       "      <td>5.099973</td>\n",
       "    </tr>\n",
       "    <tr>\n",
       "      <th>7</th>\n",
       "      <td>0.908521</td>\n",
       "      <td>1.137096</td>\n",
       "    </tr>\n",
       "    <tr>\n",
       "      <th>14</th>\n",
       "      <td>2.556931</td>\n",
       "      <td>2.639781</td>\n",
       "    </tr>\n",
       "    <tr>\n",
       "      <th>20</th>\n",
       "      <td>3.380438</td>\n",
       "      <td>3.752603</td>\n",
       "    </tr>\n",
       "  </tbody>\n",
       "</table>\n",
       "</div>"
      ],
      "text/plain": [
       "      glycine     serine\n",
       "2   10.655315  11.214330\n",
       "5    4.389753   5.099973\n",
       "7    0.908521   1.137096\n",
       "14   2.556931   2.639781\n",
       "20   3.380438   3.752603"
      ]
     },
     "execution_count": 67,
     "metadata": {},
     "output_type": "execute_result"
    }
   ],
   "source": [
    "pfs0 = data_f[data_f['PFS_3_6'] == 0][['glycine', 'serine']]\n",
    "pfs0"
   ]
  },
  {
   "cell_type": "code",
   "execution_count": 68,
   "metadata": {},
   "outputs": [
    {
     "data": {
      "text/plain": [
       "array([0.15571041, 0.14480648])"
      ]
     },
     "execution_count": 68,
     "metadata": {},
     "output_type": "execute_result"
    }
   ],
   "source": [
    "f_stat, p_val = stats.f_oneway(pfs0, pfs1)\n",
    "p_val"
   ]
  },
  {
   "cell_type": "code",
   "execution_count": 69,
   "metadata": {},
   "outputs": [
    {
     "name": "stdout",
     "output_type": "stream",
     "text": [
      "                            OLS Regression Results                            \n",
      "==============================================================================\n",
      "Dep. Variable:                PFS_3_6   R-squared:                       0.090\n",
      "Model:                            OLS   Adj. R-squared:                 -0.001\n",
      "Method:                 Least Squares   F-statistic:                    0.9922\n",
      "Date:                Wed, 01 May 2024   Prob (F-statistic):              0.388\n",
      "Time:                        11:01:34   Log-Likelihood:                -26.993\n",
      "No. Observations:                  23   AIC:                             59.99\n",
      "Df Residuals:                      20   BIC:                             63.39\n",
      "Df Model:                           2                                         \n",
      "Covariance Type:            nonrobust                                         \n",
      "==============================================================================\n",
      "                 coef    std err          t      P>|t|      [0.025      0.975]\n",
      "------------------------------------------------------------------------------\n",
      "Intercept      1.7817      0.330      5.407      0.000       1.094       2.469\n",
      "glycine        0.0007      0.333      0.002      0.998      -0.694       0.696\n",
      "serine        -0.1130      0.314     -0.360      0.723      -0.768       0.542\n",
      "==============================================================================\n",
      "Omnibus:                        4.090   Durbin-Watson:                   2.053\n",
      "Prob(Omnibus):                  0.129   Jarque-Bera (JB):                3.505\n",
      "Skew:                          -0.896   Prob(JB):                        0.173\n",
      "Kurtosis:                       2.335   Cond. No.                         14.8\n",
      "==============================================================================\n",
      "\n",
      "Notes:\n",
      "[1] Standard Errors assume that the covariance matrix of the errors is correctly specified.\n"
     ]
    }
   ],
   "source": [
    "\n",
    "import statsmodels.api as sm\n",
    "\n",
    "data_f['Intercept'] = 1\n",
    "\n",
    "\n",
    "model = sm.OLS(data_f['PFS_3_6'], data_f[['Intercept', 'glycine', 'serine']])\n",
    "\n",
    "\n",
    "results = model.fit()\n",
    "\n",
    "\n",
    "print(results.summary())"
   ]
  },
  {
   "cell_type": "code",
   "execution_count": 70,
   "metadata": {},
   "outputs": [],
   "source": [
    "# Step 2: Filter avcarb values based on PFS_3\n",
    "daidzein_0_6 = data_f[data_f['PFS_3_6'] == 0]['daidzein']\n",
    "daidzein_1_6 = data_f[data_f['PFS_3_6'] == 2]['daidzein']"
   ]
  },
  {
   "cell_type": "code",
   "execution_count": 71,
   "metadata": {},
   "outputs": [
    {
     "data": {
      "image/png": "[encoded data removed]",
      "text/plain": [
       "<Figure size 800x600 with 1 Axes>"
      ]
     },
     "metadata": {},
     "output_type": "display_data"
    }
   ],
   "source": [
    "import matplotlib.pyplot as plt\n",
    "# Step 3: Plotting the boxplot\n",
    "plt.figure(figsize=(8, 6))  # Adjust the figure size if needed\n",
    "\n",
    "# Create a boxplot\n",
    "plt.boxplot([daidzein_0_6, daidzein_1_6], labels=['PFS <= 3', 'PFS >= 6'])\n",
    "\n",
    "# Set labels and title\n",
    "plt.xlabel('Group')\n",
    "plt.ylabel('mg')\n",
    "plt.title('daidzein')\n",
    "plt.show()"
   ]
  },
  {
   "cell_type": "code",
   "execution_count": 72,
   "metadata": {},
   "outputs": [],
   "source": [
    "# Step 2: Filter avcarb values based on PFS_3\n",
    "serine_0_6 = data_f[data_f['PFS_3_6'] == 0]['serine']\n",
    "serine_1_6 = data_f[data_f['PFS_3_6'] == 2]['serine']"
   ]
  },
  {
   "cell_type": "code",
   "execution_count": 73,
   "metadata": {},
   "outputs": [
    {
     "data": {
      "text/plain": [
       "Text(0.5, 1.0, 'serine')"
      ]
     },
     "execution_count": 73,
     "metadata": {},
     "output_type": "execute_result"
    },
    {
     "data": {
      "image/png": "[encoded data removed]",
      "text/plain": [
       "<Figure size 800x600 with 1 Axes>"
      ]
     },
     "metadata": {},
     "output_type": "display_data"
    }
   ],
   "source": [
    "\n",
    "# Step 3: Plotting the boxplot\n",
    "plt.figure(figsize=(8, 6))  # Adjust the figure size if needed\n",
    "\n",
    "# Create a boxplot\n",
    "plt.boxplot([serine_0_6, serine_1_6], labels=['PFS <= 3', 'PFS >= 6'])\n",
    "\n",
    "# Set labels and title\n",
    "plt.xlabel('Group')\n",
    "plt.ylabel('g')\n",
    "plt.title('serine')"
   ]
  },
  {
   "cell_type": "code",
   "execution_count": 74,
   "metadata": {},
   "outputs": [
    {
     "data": {
      "text/plain": [
       "Text(0.5, 1.0, 'glycine')"
      ]
     },
     "execution_count": 74,
     "metadata": {},
     "output_type": "execute_result"
    },
    {
     "data": {
      "image/png": "[encoded data removed]",
      "text/plain": [
       "<Figure size 800x600 with 1 Axes>"
      ]
     },
     "metadata": {},
     "output_type": "display_data"
    }
   ],
   "source": [
    "# Step 2: Filter avcarb values based on PFS_3\n",
    "glycine_0_6 = data_f[data_f['PFS_3_6'] == 0]['glycine']\n",
    "glycine_1_6 = data_f[data_f['PFS_3_6'] == 2]['glycine']\n",
    "# Step 3: Plotting the boxplot\n",
    "plt.figure(figsize=(8, 6))  # Adjust the figure size if needed\n",
    "\n",
    "# Create a boxplot\n",
    "plt.boxplot([glycine_0_6, glycine_1_6], labels=['PFS <= 3', 'PFS >= 6'])\n",
    "\n",
    "# Set labels and title\n",
    "plt.xlabel('Group')\n",
    "plt.ylabel('g')\n",
    "plt.title('glycine')"
   ]
  },
  {
   "cell_type": "code",
   "execution_count": 75,
   "metadata": {},
   "outputs": [
    {
     "data": {
      "text/plain": [
       "Text(0.5, 1.0, 'fol_syn')"
      ]
     },
     "execution_count": 75,
     "metadata": {},
     "output_type": "execute_result"
    },
    {
     "data": {
      "image/png": "[encoded data removed]",
      "text/plain": [
       "<Figure size 800x600 with 1 Axes>"
      ]
     },
     "metadata": {},
     "output_type": "display_data"
    }
   ],
   "source": [
    "# Step 2: Filter avcarb values based on PFS_3\n",
    "glycine_0_6 = data_f[data_f['PFS_3_6'] == 0]['fol_syn']\n",
    "glycine_1_6 = data_f[data_f['PFS_3_6'] == 2]['fol_syn']\n",
    "# Step 3: Plotting the boxplot\n",
    "plt.figure(figsize=(8, 6))  # Adjust the figure size if needed\n",
    "\n",
    "# Create a boxplot\n",
    "plt.boxplot([glycine_0_6, glycine_1_6], labels=['PFS <= 3', 'PFS >= 6'])\n",
    "\n",
    "# Set labels and title\n",
    "plt.xlabel('Group')\n",
    "plt.ylabel('mcg')\n",
    "plt.title('fol_syn')"
   ]
  },
  {
   "cell_type": "code",
   "execution_count": 76,
   "metadata": {},
   "outputs": [
    {
     "data": {
      "text/plain": [
       "Text(0.5, 1.0, 'water')"
      ]
     },
     "execution_count": 76,
     "metadata": {},
     "output_type": "execute_result"
    },
    {
     "data": {
      "image/png": "[encoded data removed]",
      "text/plain": [
       "<Figure size 800x600 with 1 Axes>"
      ]
     },
     "metadata": {},
     "output_type": "display_data"
    }
   ],
   "source": [
    "# Step 2: Filter avcarb values based on PFS_3\n",
    "glycine_0_6 = data_f[data_f['PFS_3_6'] == 0]['water']\n",
    "glycine_1_6 = data_f[data_f['PFS_3_6'] == 2]['water']\n",
    "# Step 3: Plotting the boxplot\n",
    "plt.figure(figsize=(8, 6))  # Adjust the figure size if needed\n",
    "\n",
    "# Create a boxplot\n",
    "plt.boxplot([glycine_0_6, glycine_1_6], labels=['PFS <= 3', 'PFS >= 6'])\n",
    "\n",
    "# Set labels and title\n",
    "plt.xlabel('Group')\n",
    "plt.ylabel('g')\n",
    "plt.title('water')"
   ]
  },
  {
   "cell_type": "code",
   "execution_count": 77,
   "metadata": {},
   "outputs": [
    {
     "data": {
      "text/plain": [
       "Text(0.5, 1.0, 'grams')"
      ]
     },
     "execution_count": 77,
     "metadata": {},
     "output_type": "execute_result"
    },
    {
     "data": {
      "image/png": "[encoded data removed]",
      "text/plain": [
       "<Figure size 800x600 with 1 Axes>"
      ]
     },
     "metadata": {},
     "output_type": "display_data"
    }
   ],
   "source": [
    "# Step 2: Filter avcarb values based on PFS_3\n",
    "glycine_0_6 = data_f[data_f['PFS_3_6'] == 0]['grams']\n",
    "glycine_1_6 = data_f[data_f['PFS_3_6'] == 2]['grams']\n",
    "# Step 3: Plotting the boxplot\n",
    "plt.figure(figsize=(8, 6))  # Adjust the figure size if needed\n",
    "\n",
    "# Create a boxplot\n",
    "plt.boxplot([glycine_0_6, glycine_1_6], labels=['PFS <= 3', 'PFS >= 6'])\n",
    "\n",
    "# Set labels and title\n",
    "plt.xlabel('Group')\n",
    "plt.ylabel('')\n",
    "plt.title('grams')"
   ]
  },
  {
   "cell_type": "code",
   "execution_count": 78,
   "metadata": {},
   "outputs": [
    {
     "data": {
      "text/plain": [
       "Text(0.5, 1.0, 'delttoco')"
      ]
     },
     "execution_count": 78,
     "metadata": {},
     "output_type": "execute_result"
    },
    {
     "data": {
      "image/png": "[encoded data removed]",
      "text/plain": [
       "<Figure size 800x600 with 1 Axes>"
      ]
     },
     "metadata": {},
     "output_type": "display_data"
    }
   ],
   "source": [
    "# Step 2: Filter avcarb values based on PFS_3\n",
    "glycine_0_6 = data_f[data_f['PFS_3_6'] == 0]['delttoco']\n",
    "glycine_1_6 = data_f[data_f['PFS_3_6'] == 2]['delttoco']\n",
    "# Step 3: Plotting the boxplot\n",
    "plt.figure(figsize=(8, 6))  # Adjust the figure size if needed\n",
    "\n",
    "# Create a boxplot\n",
    "plt.boxplot([glycine_0_6, glycine_1_6], labels=['PFS <= 3', 'PFS >= 6'])\n",
    "\n",
    "# Set labels and title\n",
    "plt.xlabel('Group')\n",
    "plt.ylabel('')\n",
    "plt.title('delttoco')"
   ]
  },
  {
   "cell_type": "code",
   "execution_count": 80,
   "metadata": {},
   "outputs": [
    {
     "data": {
      "text/plain": [
       "Text(0.5, 1.0, 'glycitn')"
      ]
     },
     "execution_count": 80,
     "metadata": {},
     "output_type": "execute_result"
    },
    {
     "data": {
      "image/png": "[encoded data removed]",
      "text/plain": [
       "<Figure size 800x600 with 1 Axes>"
      ]
     },
     "metadata": {},
     "output_type": "display_data"
    }
   ],
   "source": [
    "# Step 2: Filter avcarb values based on PFS_3\n",
    "glycine_0_6 = data_f[data_f['PFS_3_6'] == 0]['glycitn']\n",
    "glycine_1_6 = data_f[data_f['PFS_3_6'] == 2]['glycitn']\n",
    "# Step 3: Plotting the boxplot\n",
    "plt.figure(figsize=(8, 6))  # Adjust the figure size if needed\n",
    "\n",
    "# Create a boxplot\n",
    "plt.boxplot([glycine_0_6, glycine_1_6], labels=['PFS <= 3', 'PFS >= 6'])\n",
    "\n",
    "# Set labels and title\n",
    "plt.xlabel('Group')\n",
    "plt.ylabel('')\n",
    "plt.title('glycitn')"
   ]
  }
 ],
 "metadata": {
  "colab": {
   "provenance": []
  },
  "gpuClass": "standard",
  "kernelspec": {
   "display_name": "Python 3",
   "language": "python",
   "name": "python3"
  },
  "language_info": {
   "codemirror_mode": {
    "name": "ipython",
    "version": 3
   },
   "file_extension": ".py",
   "mimetype": "text/x-python",
   "name": "python",
   "nbconvert_exporter": "python",
   "pygments_lexer": "ipython3",
   "version": "3.10.10"
  }
 },
 "nbformat": 4,
 "nbformat_minor": 1
}
