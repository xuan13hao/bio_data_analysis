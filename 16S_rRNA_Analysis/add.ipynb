{
 "cells": [
  {
   "cell_type": "code",
   "execution_count": 3,
   "id": "a63f8c87",
   "metadata": {},
   "outputs": [
    {
     "name": "stderr",
     "output_type": "stream",
     "text": [
      "/home/xuan/miniconda3/envs/xuan_cuda/lib/python3.10/site-packages/IPython/core/pylabtools.py:152: UserWarning: Glyph 24179 (\\N{CJK UNIFIED IDEOGRAPH-5E73}) missing from current font.\n",
      "  fig.canvas.print_figure(bytes_io, **kw)\n",
      "/home/xuan/miniconda3/envs/xuan_cuda/lib/python3.10/site-packages/IPython/core/pylabtools.py:152: UserWarning: Glyph 22343 (\\N{CJK UNIFIED IDEOGRAPH-5747}) missing from current font.\n",
      "  fig.canvas.print_figure(bytes_io, **kw)\n",
      "/home/xuan/miniconda3/envs/xuan_cuda/lib/python3.10/site-packages/IPython/core/pylabtools.py:152: UserWarning: Glyph 20016 (\\N{CJK UNIFIED IDEOGRAPH-4E30}) missing from current font.\n",
      "  fig.canvas.print_figure(bytes_io, **kw)\n",
      "/home/xuan/miniconda3/envs/xuan_cuda/lib/python3.10/site-packages/IPython/core/pylabtools.py:152: UserWarning: Glyph 24230 (\\N{CJK UNIFIED IDEOGRAPH-5EA6}) missing from current font.\n",
      "  fig.canvas.print_figure(bytes_io, **kw)\n",
      "/home/xuan/miniconda3/envs/xuan_cuda/lib/python3.10/site-packages/IPython/core/pylabtools.py:152: UserWarning: Glyph 21508 (\\N{CJK UNIFIED IDEOGRAPH-5404}) missing from current font.\n",
      "  fig.canvas.print_figure(bytes_io, **kw)\n",
      "/home/xuan/miniconda3/envs/xuan_cuda/lib/python3.10/site-packages/IPython/core/pylabtools.py:152: UserWarning: Glyph 32452 (\\N{CJK UNIFIED IDEOGRAPH-7EC4}) missing from current font.\n",
      "  fig.canvas.print_figure(bytes_io, **kw)\n",
      "/home/xuan/miniconda3/envs/xuan_cuda/lib/python3.10/site-packages/IPython/core/pylabtools.py:152: UserWarning: Glyph 20013 (\\N{CJK UNIFIED IDEOGRAPH-4E2D}) missing from current font.\n",
      "  fig.canvas.print_figure(bytes_io, **kw)\n",
      "/home/xuan/miniconda3/envs/xuan_cuda/lib/python3.10/site-packages/IPython/core/pylabtools.py:152: UserWarning: Glyph 20010 (\\N{CJK UNIFIED IDEOGRAPH-4E2A}) missing from current font.\n",
      "  fig.canvas.print_figure(bytes_io, **kw)\n",
      "/home/xuan/miniconda3/envs/xuan_cuda/lib/python3.10/site-packages/IPython/core/pylabtools.py:152: UserWarning: Glyph 21160 (\\N{CJK UNIFIED IDEOGRAPH-52A8}) missing from current font.\n",
      "  fig.canvas.print_figure(bytes_io, **kw)\n",
      "/home/xuan/miniconda3/envs/xuan_cuda/lib/python3.10/site-packages/IPython/core/pylabtools.py:152: UserWarning: Glyph 29289 (\\N{CJK UNIFIED IDEOGRAPH-7269}) missing from current font.\n",
      "  fig.canvas.print_figure(bytes_io, **kw)\n",
      "/home/xuan/miniconda3/envs/xuan_cuda/lib/python3.10/site-packages/IPython/core/pylabtools.py:152: UserWarning: Glyph 30340 (\\N{CJK UNIFIED IDEOGRAPH-7684}) missing from current font.\n",
      "  fig.canvas.print_figure(bytes_io, **kw)\n",
      "/home/xuan/miniconda3/envs/xuan_cuda/lib/python3.10/site-packages/IPython/core/pylabtools.py:152: UserWarning: Glyph 24494 (\\N{CJK UNIFIED IDEOGRAPH-5FAE}) missing from current font.\n",
      "  fig.canvas.print_figure(bytes_io, **kw)\n",
      "/home/xuan/miniconda3/envs/xuan_cuda/lib/python3.10/site-packages/IPython/core/pylabtools.py:152: UserWarning: Glyph 29983 (\\N{CJK UNIFIED IDEOGRAPH-751F}) missing from current font.\n",
      "  fig.canvas.print_figure(bytes_io, **kw)\n",
      "/home/xuan/miniconda3/envs/xuan_cuda/lib/python3.10/site-packages/IPython/core/pylabtools.py:152: UserWarning: Glyph 25104 (\\N{CJK UNIFIED IDEOGRAPH-6210}) missing from current font.\n",
      "  fig.canvas.print_figure(bytes_io, **kw)\n",
      "/home/xuan/miniconda3/envs/xuan_cuda/lib/python3.10/site-packages/IPython/core/pylabtools.py:152: UserWarning: Glyph 21035 (\\N{CJK UNIFIED IDEOGRAPH-522B}) missing from current font.\n",
      "  fig.canvas.print_figure(bytes_io, **kw)\n",
      "/home/xuan/miniconda3/envs/xuan_cuda/lib/python3.10/site-packages/IPython/core/pylabtools.py:152: UserWarning: Glyph 20998 (\\N{CJK UNIFIED IDEOGRAPH-5206}) missing from current font.\n",
      "  fig.canvas.print_figure(bytes_io, **kw)\n",
      "/home/xuan/miniconda3/envs/xuan_cuda/lib/python3.10/site-packages/IPython/core/pylabtools.py:152: UserWarning: Glyph 31867 (\\N{CJK UNIFIED IDEOGRAPH-7C7B}) missing from current font.\n",
      "  fig.canvas.print_figure(bytes_io, **kw)\n",
      "/home/xuan/miniconda3/envs/xuan_cuda/lib/python3.10/site-packages/IPython/core/pylabtools.py:152: UserWarning: Glyph 21333 (\\N{CJK UNIFIED IDEOGRAPH-5355}) missing from current font.\n",
      "  fig.canvas.print_figure(bytes_io, **kw)\n",
      "/home/xuan/miniconda3/envs/xuan_cuda/lib/python3.10/site-packages/IPython/core/pylabtools.py:152: UserWarning: Glyph 20803 (\\N{CJK UNIFIED IDEOGRAPH-5143}) missing from current font.\n",
      "  fig.canvas.print_figure(bytes_io, **kw)\n"
     ]
    },
    {
     "data": {
      "image/png": "[encoded data removed]",
      "text/plain": [
       "<Figure size 1000x600 with 1 Axes>"
      ]
     },
     "metadata": {},
     "output_type": "display_data"
    }
   ],
   "source": [
    "import matplotlib.pyplot as plt\n",
    "import pandas as pd\n",
    "\n",
    "# Sample data (replace this with your actual data)\n",
    "data = {\n",
    "    'Animal': [1, 2, 3, 4, 5],\n",
    "    'Group': ['Group A', 'Group B', 'Group A', 'Group B', 'Group A'],\n",
    "    'Taxon1': [0.1, 0.2, 0.15, 0.25, 0.12],\n",
    "    'Taxon2': [0.2, 0.1, 0.18, 0.22, 0.25],\n",
    "    'Taxon3': [0.15, 0.25, 0.12, 0.18, 0.2]\n",
    "}\n",
    "\n",
    "df = pd.DataFrame(data)\n",
    "\n",
    "# Calculate mean abundance for each group\n",
    "mean_abundance = df.groupby('Group').mean()\n",
    "\n",
    "# Plot the data\n",
    "mean_abundance.plot(kind='bar', figsize=(10, 6))\n",
    "plt.ylabel('Mean Abundance')\n",
    "plt.title('Microbial Composition of Individual Animals in Each Group')\n",
    "plt.xticks(rotation=0)\n",
    "plt.legend(title='Taxon')\n",
    "plt.show()\n"
   ]
  }
 ],
 "metadata": {
  "kernelspec": {
   "display_name": "Python 3 (ipykernel)",
   "language": "python",
   "name": "python3"
  },
  "language_info": {
   "codemirror_mode": {
    "name": "ipython",
    "version": 3
   },
   "file_extension": ".py",
   "mimetype": "text/x-python",
   "name": "python",
   "nbconvert_exporter": "python",
   "pygments_lexer": "ipython3",
   "version": "3.10.10"
  }
 },
 "nbformat": 4,
 "nbformat_minor": 5
}
