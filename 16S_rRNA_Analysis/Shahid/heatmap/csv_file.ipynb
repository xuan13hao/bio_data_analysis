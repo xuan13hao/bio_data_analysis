{
 "cells": [
  {
   "cell_type": "code",
   "execution_count": 12,
   "metadata": {},
   "outputs": [],
   "source": [
    "import pandas as pd"
   ]
  },
  {
   "cell_type": "code",
   "execution_count": 13,
   "metadata": {},
   "outputs": [],
   "source": [
    "# Load the CSV files\n",
    "ko_counts_df = pd.read_csv('KO_C_F.csv')\n",
    "ko_description_df = pd.read_csv('KO_func_description.csv')"
   ]
  },
  {
   "cell_type": "code",
   "execution_count": 14,
   "metadata": {},
   "outputs": [],
   "source": [
    "# Create a dictionary from KO names to descriptions\n",
    "ko_to_description_map = pd.Series(ko_description_df.description.values, index=ko_description_df.function).to_dict()\n",
    "\n",
    "# Replace KO names in the 'function' column of ko_counts_df with descriptions\n",
    "ko_counts_df['function'] = ko_counts_df['function'].map(ko_to_description_map).fillna(ko_counts_df['function'])\n",
    "\n",
    "# Save the modified dataframe to a new CSV file\n",
    "output_file_path = 'Updated_KO_C_F.csv'\n",
    "ko_counts_df.to_csv(output_file_path, index=False)"
   ]
  },
  {
   "cell_type": "code",
   "execution_count": 17,
   "metadata": {},
   "outputs": [],
   "source": [
    "# Load the CSV files\n",
    "ko_counts_df = pd.read_csv('pathway_out_C_F.csv')\n",
    "ko_description_df = pd.read_csv('pwy_func_description.csv')"
   ]
  },
  {
   "cell_type": "code",
   "execution_count": 18,
   "metadata": {},
   "outputs": [],
   "source": [
    "# Create a dictionary from KO names to descriptions\n",
    "ko_to_description_map = pd.Series(ko_description_df.description.values, index=ko_description_df.function).to_dict()\n",
    "\n",
    "# Replace KO names in the 'function' column of ko_counts_df with descriptions\n",
    "ko_counts_df['function'] = ko_counts_df['function'].map(ko_to_description_map).fillna(ko_counts_df['function'])\n",
    "\n",
    "# Save the modified dataframe to a new CSV file\n",
    "output_file_path = 'Updated_pathway_out_C_F.csv'\n",
    "ko_counts_df.to_csv(output_file_path, index=False)"
   ]
  }
 ],
 "metadata": {
  "kernelspec": {
   "display_name": "Python 3",
   "language": "python",
   "name": "python3"
  },
  "language_info": {
   "codemirror_mode": {
    "name": "ipython",
    "version": 3
   },
   "file_extension": ".py",
   "mimetype": "text/x-python",
   "name": "python",
   "nbconvert_exporter": "python",
   "pygments_lexer": "ipython3",
   "version": "3.10.10"
  },
  "orig_nbformat": 4
 },
 "nbformat": 4,
 "nbformat_minor": 2
}
