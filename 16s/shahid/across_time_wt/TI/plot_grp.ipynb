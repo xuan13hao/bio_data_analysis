{
 "cells": [
  {
   "cell_type": "code",
   "execution_count": 3,
   "metadata": {},
   "outputs": [],
   "source": [
    "import pandas as pd\n",
    "import seaborn as sns\n",
    "import matplotlib.pyplot as plt"
   ]
  },
  {
   "cell_type": "code",
   "execution_count": 10,
   "metadata": {},
   "outputs": [
    {
     "data": {
      "text/html": [
       "<div>\n",
       "<style scoped>\n",
       "    .dataframe tbody tr th:only-of-type {\n",
       "        vertical-align: middle;\n",
       "    }\n",
       "\n",
       "    .dataframe tbody tr th {\n",
       "        vertical-align: top;\n",
       "    }\n",
       "\n",
       "    .dataframe thead th {\n",
       "        text-align: right;\n",
       "    }\n",
       "</style>\n",
       "<table border=\"1\" class=\"dataframe\">\n",
       "  <thead>\n",
       "    <tr style=\"text-align: right;\">\n",
       "      <th></th>\n",
       "      <th>DOL</th>\n",
       "      <th>samples</th>\n",
       "      <th>variable</th>\n",
       "      <th>value</th>\n",
       "      <th>se</th>\n",
       "    </tr>\n",
       "  </thead>\n",
       "  <tbody>\n",
       "    <tr>\n",
       "      <th>1</th>\n",
       "      <td>P11</td>\n",
       "      <td>073B</td>\n",
       "      <td>Chao1</td>\n",
       "      <td>36</td>\n",
       "      <td>0</td>\n",
       "    </tr>\n",
       "    <tr>\n",
       "      <th>2</th>\n",
       "      <td>P11</td>\n",
       "      <td>075B</td>\n",
       "      <td>Chao1</td>\n",
       "      <td>29</td>\n",
       "      <td>0</td>\n",
       "    </tr>\n",
       "    <tr>\n",
       "      <th>3</th>\n",
       "      <td>P11</td>\n",
       "      <td>081B</td>\n",
       "      <td>Chao1</td>\n",
       "      <td>33</td>\n",
       "      <td>0</td>\n",
       "    </tr>\n",
       "    <tr>\n",
       "      <th>4</th>\n",
       "      <td>P11</td>\n",
       "      <td>083B</td>\n",
       "      <td>Chao1</td>\n",
       "      <td>38</td>\n",
       "      <td>0</td>\n",
       "    </tr>\n",
       "    <tr>\n",
       "      <th>5</th>\n",
       "      <td>P11</td>\n",
       "      <td>085B</td>\n",
       "      <td>Chao1</td>\n",
       "      <td>28</td>\n",
       "      <td>0</td>\n",
       "    </tr>\n",
       "  </tbody>\n",
       "</table>\n",
       "</div>"
      ],
      "text/plain": [
       "   DOL samples variable  value  se\n",
       "1  P11    073B    Chao1     36   0\n",
       "2  P11    075B    Chao1     29   0\n",
       "3  P11    081B    Chao1     33   0\n",
       "4  P11    083B    Chao1     38   0\n",
       "5  P11    085B    Chao1     28   0"
      ]
     },
     "execution_count": 10,
     "metadata": {},
     "output_type": "execute_result"
    }
   ],
   "source": [
    "# Replace 'your_file.csv' with the actual path to your CSV file\n",
    "csv_file_path = './alphadiversity.csv'\n",
    "# Read the CSV file into a pandas DataFrame\n",
    "alpha = pd.read_csv(csv_file_path,sep=',',index_col=0)\n",
    "alpha.head(5)"
   ]
  },
  {
   "cell_type": "code",
   "execution_count": 52,
   "metadata": {},
   "outputs": [
    {
     "data": {
      "image/png": "[encoded data removed]",
      "text/plain": [
       "<Figure size 640x480 with 1 Axes>"
      ]
     },
     "metadata": {},
     "output_type": "display_data"
    }
   ],
   "source": [
    "# create grouped boxplot \n",
    "sns.boxplot(x = alpha['DOL'],\n",
    "            y = alpha['value'],\n",
    "            hue = alpha['DOL'],\n",
    "            palette = 'Set2')\n",
    "plt.title('p-value: 0.19618')\n",
    "plt.xlabel('DOL')\n",
    "plt.ylabel('Alpha Diversity Index: Chao1')\n",
    "# Place the legend outside the plot\n",
    "plt.legend(title='DOL', loc='upper right', bbox_to_anchor=(1.2, 1))\n",
    "plt.show()\n",
    "\n"
   ]
  },
  {
   "cell_type": "code",
   "execution_count": 49,
   "metadata": {},
   "outputs": [
    {
     "data": {
      "text/html": [
       "<div>\n",
       "<style scoped>\n",
       "    .dataframe tbody tr th:only-of-type {\n",
       "        vertical-align: middle;\n",
       "    }\n",
       "\n",
       "    .dataframe tbody tr th {\n",
       "        vertical-align: top;\n",
       "    }\n",
       "\n",
       "    .dataframe thead th {\n",
       "        text-align: right;\n",
       "    }\n",
       "</style>\n",
       "<table border=\"1\" class=\"dataframe\">\n",
       "  <thead>\n",
       "    <tr style=\"text-align: right;\">\n",
       "      <th></th>\n",
       "      <th>MDS1</th>\n",
       "      <th>MDS2</th>\n",
       "    </tr>\n",
       "  </thead>\n",
       "  <tbody>\n",
       "    <tr>\n",
       "      <th>073B</th>\n",
       "      <td>-0.66022</td>\n",
       "      <td>0.031441</td>\n",
       "    </tr>\n",
       "    <tr>\n",
       "      <th>075B</th>\n",
       "      <td>-0.58367</td>\n",
       "      <td>-0.101970</td>\n",
       "    </tr>\n",
       "    <tr>\n",
       "      <th>081B</th>\n",
       "      <td>-0.61334</td>\n",
       "      <td>-0.031245</td>\n",
       "    </tr>\n",
       "    <tr>\n",
       "      <th>083B</th>\n",
       "      <td>-0.58410</td>\n",
       "      <td>-0.045257</td>\n",
       "    </tr>\n",
       "    <tr>\n",
       "      <th>085B</th>\n",
       "      <td>-0.57132</td>\n",
       "      <td>-0.262110</td>\n",
       "    </tr>\n",
       "  </tbody>\n",
       "</table>\n",
       "</div>"
      ],
      "text/plain": [
       "         MDS1      MDS2\n",
       "073B -0.66022  0.031441\n",
       "075B -0.58367 -0.101970\n",
       "081B -0.61334 -0.031245\n",
       "083B -0.58410 -0.045257\n",
       "085B -0.57132 -0.262110"
      ]
     },
     "execution_count": 49,
     "metadata": {},
     "output_type": "execute_result"
    }
   ],
   "source": [
    "# Replace 'your_file.csv' with the actual path to your CSV file\n",
    "beta_csv_file_path = './pcoa_score.csv'\n",
    "# Read the CSV file into a pandas DataFrame\n",
    "beta = pd.read_csv(beta_csv_file_path,sep=',',index_col=0)\n",
    "beta.head(5)\n"
   ]
  },
  {
   "cell_type": "code",
   "execution_count": 47,
   "metadata": {},
   "outputs": [
    {
     "data": {
      "text/html": [
       "<div>\n",
       "<style scoped>\n",
       "    .dataframe tbody tr th:only-of-type {\n",
       "        vertical-align: middle;\n",
       "    }\n",
       "\n",
       "    .dataframe tbody tr th {\n",
       "        vertical-align: top;\n",
       "    }\n",
       "\n",
       "    .dataframe thead th {\n",
       "        text-align: right;\n",
       "    }\n",
       "</style>\n",
       "<table border=\"1\" class=\"dataframe\">\n",
       "  <thead>\n",
       "    <tr style=\"text-align: right;\">\n",
       "      <th></th>\n",
       "      <th>MDS1</th>\n",
       "      <th>MDS2</th>\n",
       "      <th>DOL</th>\n",
       "    </tr>\n",
       "  </thead>\n",
       "  <tbody>\n",
       "    <tr>\n",
       "      <th>073B</th>\n",
       "      <td>-0.66022</td>\n",
       "      <td>0.031441</td>\n",
       "      <td>P11</td>\n",
       "    </tr>\n",
       "    <tr>\n",
       "      <th>075B</th>\n",
       "      <td>-0.58367</td>\n",
       "      <td>-0.101970</td>\n",
       "      <td>P11</td>\n",
       "    </tr>\n",
       "    <tr>\n",
       "      <th>107B</th>\n",
       "      <td>-0.66785</td>\n",
       "      <td>-0.108200</td>\n",
       "      <td>P11</td>\n",
       "    </tr>\n",
       "    <tr>\n",
       "      <th>106B</th>\n",
       "      <td>-0.58527</td>\n",
       "      <td>0.192650</td>\n",
       "      <td>P11</td>\n",
       "    </tr>\n",
       "    <tr>\n",
       "      <th>105B</th>\n",
       "      <td>-0.54663</td>\n",
       "      <td>-0.113250</td>\n",
       "      <td>P11</td>\n",
       "    </tr>\n",
       "  </tbody>\n",
       "</table>\n",
       "</div>"
      ],
      "text/plain": [
       "         MDS1      MDS2  DOL\n",
       "073B -0.66022  0.031441  P11\n",
       "075B -0.58367 -0.101970  P11\n",
       "107B -0.66785 -0.108200  P11\n",
       "106B -0.58527  0.192650  P11\n",
       "105B -0.54663 -0.113250  P11"
      ]
     },
     "execution_count": 47,
     "metadata": {},
     "output_type": "execute_result"
    }
   ],
   "source": [
    "metadata = pd.read_csv(\"./11-14-28_TI.csv\",sep=',',index_col=0)\n",
    "metadata.head(5)\n",
    "grp_meta = []\n",
    "for i in beta.index:\n",
    "    for j in metadata.index:\n",
    "        value = metadata.loc[j, \"DOL\"]\n",
    "        if str(i) == str(j):\n",
    "            grp_meta.append(value)\n",
    "beta[\"DOL\"] = grp_meta\n",
    "beta = beta.sort_values(by='DOL', ascending=True)\n",
    "beta.head(5)"
   ]
  },
  {
   "cell_type": "code",
   "execution_count": 48,
   "metadata": {},
   "outputs": [
    {
     "data": {
      "image/png": "[encoded data removed]",
      "text/plain": [
       "<Figure size 800x600 with 1 Axes>"
      ]
     },
     "metadata": {},
     "output_type": "display_data"
    }
   ],
   "source": [
    "mds1 = beta['MDS1']\n",
    "mds2 = beta['MDS2']\n",
    "groups = beta['DOL']\n",
    "sample_labels = beta.index\n",
    "plt.figure(figsize=(8, 6))\n",
    "for group in groups.unique():\n",
    "    group_indices = groups[groups == group].index\n",
    "    plt.scatter(mds1[group_indices], mds2[group_indices], label=group)\n",
    "\n",
    "plt.xlabel('MDS1')\n",
    "plt.ylabel('MDS2')\n",
    "plt.title('Bray-Curtis Index, p-value: 0.001')\n",
    "plt.legend()\n",
    "plt.grid(False)\n",
    "plt.show()"
   ]
  }
 ],
 "metadata": {
  "kernelspec": {
   "display_name": "Python 3",
   "language": "python",
   "name": "python3"
  },
  "language_info": {
   "codemirror_mode": {
    "name": "ipython",
    "version": 3
   },
   "file_extension": ".py",
   "mimetype": "text/x-python",
   "name": "python",
   "nbconvert_exporter": "python",
   "pygments_lexer": "ipython3",
   "version": "3.10.10"
  },
  "orig_nbformat": 4
 },
 "nbformat": 4,
 "nbformat_minor": 2
}
