{
 "cells": [
  {
   "cell_type": "code",
   "execution_count": 1,
   "metadata": {},
   "outputs": [],
   "source": [
    "import pandas as pd\n",
    "import seaborn as sns\n",
    "import matplotlib.pyplot as plt\n",
    "import numpy as np\n",
    "import re\n",
    "import matplotlib.patches as mpatches\n",
    "import matplotlib.lines as mlines"
   ]
  },
  {
   "cell_type": "code",
   "execution_count": 6,
   "metadata": {},
   "outputs": [
    {
     "data": {
      "text/html": [
       "<div>\n",
       "<style scoped>\n",
       "    .dataframe tbody tr th:only-of-type {\n",
       "        vertical-align: middle;\n",
       "    }\n",
       "\n",
       "    .dataframe tbody tr th {\n",
       "        vertical-align: top;\n",
       "    }\n",
       "\n",
       "    .dataframe thead th {\n",
       "        text-align: right;\n",
       "    }\n",
       "</style>\n",
       "<table border=\"1\" class=\"dataframe\">\n",
       "  <thead>\n",
       "    <tr style=\"text-align: right;\">\n",
       "      <th></th>\n",
       "      <th>Feature</th>\n",
       "      <th>Pvalues</th>\n",
       "      <th>FDR</th>\n",
       "      <th>Sig_Homo</th>\n",
       "      <th>Sig_WT</th>\n",
       "      <th>LDAscore</th>\n",
       "      <th>abs_LDAscore</th>\n",
       "    </tr>\n",
       "  </thead>\n",
       "  <tbody>\n",
       "    <tr>\n",
       "      <th>3</th>\n",
       "      <td>Muribacter</td>\n",
       "      <td>0.036170</td>\n",
       "      <td>0.71436</td>\n",
       "      <td>1318800.00</td>\n",
       "      <td>2103900.0</td>\n",
       "      <td>-5.59</td>\n",
       "      <td>5.59</td>\n",
       "    </tr>\n",
       "    <tr>\n",
       "      <th>0</th>\n",
       "      <td>Kurthia</td>\n",
       "      <td>0.012694</td>\n",
       "      <td>0.45087</td>\n",
       "      <td>697.41</td>\n",
       "      <td>7191.1</td>\n",
       "      <td>-3.51</td>\n",
       "      <td>3.51</td>\n",
       "    </tr>\n",
       "    <tr>\n",
       "      <th>2</th>\n",
       "      <td>Bacillus</td>\n",
       "      <td>0.017122</td>\n",
       "      <td>0.45087</td>\n",
       "      <td>1859.80</td>\n",
       "      <td>4587.4</td>\n",
       "      <td>-3.14</td>\n",
       "      <td>3.14</td>\n",
       "    </tr>\n",
       "    <tr>\n",
       "      <th>1</th>\n",
       "      <td>Flectobacillus</td>\n",
       "      <td>0.015985</td>\n",
       "      <td>0.45087</td>\n",
       "      <td>464.94</td>\n",
       "      <td>2479.7</td>\n",
       "      <td>-3.00</td>\n",
       "      <td>3.00</td>\n",
       "    </tr>\n",
       "  </tbody>\n",
       "</table>\n",
       "</div>"
      ],
      "text/plain": [
       "          Feature   Pvalues      FDR    Sig_Homo     Sig_WT  LDAscore   \n",
       "3      Muribacter  0.036170  0.71436  1318800.00  2103900.0     -5.59  \\\n",
       "0         Kurthia  0.012694  0.45087      697.41     7191.1     -3.51   \n",
       "2        Bacillus  0.017122  0.45087     1859.80     4587.4     -3.14   \n",
       "1  Flectobacillus  0.015985  0.45087      464.94     2479.7     -3.00   \n",
       "\n",
       "   abs_LDAscore  \n",
       "3          5.59  \n",
       "0          3.51  \n",
       "2          3.14  \n",
       "1          3.00  "
      ]
     },
     "execution_count": 6,
     "metadata": {},
     "output_type": "execute_result"
    }
   ],
   "source": [
    "# Load data\n",
    "lefse = pd.read_csv('./P11_TI_HOMO_WT/lefse_de_output.csv',sep=',')\n",
    "condition = (lefse['Pvalues'] < 0.05)\n",
    "# Apply the condition to filter the data\n",
    "lefse = lefse[condition]\n",
    "lefse = lefse.assign(abs_LDAscore=abs(lefse['LDAscore']))\n",
    "lefse = lefse.sort_values(by='abs_LDAscore', ascending=False).head(15)\n",
    "# Define the condition to filter the data (e.g., Category == 'X')\n",
    "lefse_sorted = lefse\n",
    "lefse_sorted"
   ]
  },
  {
   "cell_type": "code",
   "execution_count": 7,
   "metadata": {},
   "outputs": [
    {
     "data": {
      "text/html": [
       "<div>\n",
       "<style scoped>\n",
       "    .dataframe tbody tr th:only-of-type {\n",
       "        vertical-align: middle;\n",
       "    }\n",
       "\n",
       "    .dataframe tbody tr th {\n",
       "        vertical-align: top;\n",
       "    }\n",
       "\n",
       "    .dataframe thead th {\n",
       "        text-align: right;\n",
       "    }\n",
       "</style>\n",
       "<table border=\"1\" class=\"dataframe\">\n",
       "  <thead>\n",
       "    <tr style=\"text-align: right;\">\n",
       "      <th></th>\n",
       "      <th>Feature</th>\n",
       "      <th>Pvalues</th>\n",
       "      <th>FDR</th>\n",
       "      <th>Sig_Homo</th>\n",
       "      <th>Sig_WT</th>\n",
       "      <th>LDAscore</th>\n",
       "      <th>abs_LDAscore</th>\n",
       "      <th>Response</th>\n",
       "    </tr>\n",
       "  </thead>\n",
       "  <tbody>\n",
       "    <tr>\n",
       "      <th>3</th>\n",
       "      <td>Muribacter</td>\n",
       "      <td>0.036170</td>\n",
       "      <td>0.71436</td>\n",
       "      <td>1318800.00</td>\n",
       "      <td>2103900.0</td>\n",
       "      <td>-5.59</td>\n",
       "      <td>5.59</td>\n",
       "      <td>Sig_WT</td>\n",
       "    </tr>\n",
       "    <tr>\n",
       "      <th>0</th>\n",
       "      <td>Kurthia</td>\n",
       "      <td>0.012694</td>\n",
       "      <td>0.45087</td>\n",
       "      <td>697.41</td>\n",
       "      <td>7191.1</td>\n",
       "      <td>-3.51</td>\n",
       "      <td>3.51</td>\n",
       "      <td>Sig_WT</td>\n",
       "    </tr>\n",
       "    <tr>\n",
       "      <th>2</th>\n",
       "      <td>Bacillus</td>\n",
       "      <td>0.017122</td>\n",
       "      <td>0.45087</td>\n",
       "      <td>1859.80</td>\n",
       "      <td>4587.4</td>\n",
       "      <td>-3.14</td>\n",
       "      <td>3.14</td>\n",
       "      <td>Sig_WT</td>\n",
       "    </tr>\n",
       "    <tr>\n",
       "      <th>1</th>\n",
       "      <td>Flectobacillus</td>\n",
       "      <td>0.015985</td>\n",
       "      <td>0.45087</td>\n",
       "      <td>464.94</td>\n",
       "      <td>2479.7</td>\n",
       "      <td>-3.00</td>\n",
       "      <td>3.00</td>\n",
       "      <td>Sig_WT</td>\n",
       "    </tr>\n",
       "  </tbody>\n",
       "</table>\n",
       "</div>"
      ],
      "text/plain": [
       "          Feature   Pvalues      FDR    Sig_Homo     Sig_WT  LDAscore   \n",
       "3      Muribacter  0.036170  0.71436  1318800.00  2103900.0     -5.59  \\\n",
       "0         Kurthia  0.012694  0.45087      697.41     7191.1     -3.51   \n",
       "2        Bacillus  0.017122  0.45087     1859.80     4587.4     -3.14   \n",
       "1  Flectobacillus  0.015985  0.45087      464.94     2479.7     -3.00   \n",
       "\n",
       "   abs_LDAscore Response  \n",
       "3          5.59   Sig_WT  \n",
       "0          3.51   Sig_WT  \n",
       "2          3.14   Sig_WT  \n",
       "1          3.00   Sig_WT  "
      ]
     },
     "execution_count": 7,
     "metadata": {},
     "output_type": "execute_result"
    }
   ],
   "source": [
    "# Specify the columns to consider for finding the max\n",
    "columns_to_check = ['Sig_Homo', 'Sig_WT']\n",
    "# Find the column with the maximum value for each row\n",
    "lefse_sorted ['Response'] = lefse_sorted [columns_to_check].idxmax(axis=1)\n",
    "lefse_sorted "
   ]
  },
  {
   "cell_type": "code",
   "execution_count": 12,
   "metadata": {},
   "outputs": [
    {
     "data": {
      "text/plain": [
       "<matplotlib.legend.Legend at 0x7f944871f3a0>"
      ]
     },
     "execution_count": 12,
     "metadata": {},
     "output_type": "execute_result"
    },
    {
     "data": {
      "image/png": "[encoded data removed]",
      "text/plain": [
       "<Figure size 640x480 with 1 Axes>"
      ]
     },
     "metadata": {},
     "output_type": "display_data"
    }
   ],
   "source": [
    "lefse_sorted = lefse_sorted.sort_values(by='LDAscore', ascending=True)\n",
    "colors = lefse_sorted ['Response'].map({'Sig_Homo': 'red','Sig_WT': 'blue'})\n",
    "# plt.figure(figsize=(8, 6))  # Adjust the figure size to fit the rotated chart\n",
    "# plt.barh(lefse_sorted ['Feature'], lefse_sorted ['LDAscore'], color=colors)  # Swap x and y\n",
    "# max_value = lefse[['PBS-PBS', 'Lac-PBS', 'PBS-SCB34','Lac-SCB34']].max().max()\n",
    "# Customize the plot\n",
    "# plt.title('Rotated Bar Figure Based on Two Columns')\n",
    "plt.xlabel('LDAscore')\n",
    "plt.ylabel('Features')\n",
    "\n",
    "# Create a legend for 'Category' colors\n",
    "red_patch = mpatches.Patch(color='red', label='Sig_Homo')\n",
    "# blue_patch = mpatches.Patch(color='green', label='P11')\n",
    "green_patch = mpatches.Patch(color='blue', label='Sig_WT')\n",
    "# orange_patch = mpatches.Patch(color='purple', label='P28')\n",
    "plt.legend(handles=[red_patch,green_patch  ], title='Response', loc='lower right',fontsize='small')"
   ]
  }
 ],
 "metadata": {
  "kernelspec": {
   "display_name": "Python 3",
   "language": "python",
   "name": "python3"
  },
  "language_info": {
   "codemirror_mode": {
    "name": "ipython",
    "version": 3
   },
   "file_extension": ".py",
   "mimetype": "text/x-python",
   "name": "python",
   "nbconvert_exporter": "python",
   "pygments_lexer": "ipython3",
   "version": "3.10.10"
  },
  "orig_nbformat": 4
 },
 "nbformat": 4,
 "nbformat_minor": 2
}
