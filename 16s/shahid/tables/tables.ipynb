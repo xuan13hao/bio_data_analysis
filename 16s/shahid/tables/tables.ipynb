{
 "cells": [
  {
   "cell_type": "code",
   "execution_count": 27,
   "id": "9f0f30b9",
   "metadata": {},
   "outputs": [],
   "source": [
    "import pandas as pd"
   ]
  },
  {
   "cell_type": "code",
   "execution_count": 14,
   "id": "139cdd8e",
   "metadata": {},
   "outputs": [
    {
     "name": "stdout",
     "output_type": "stream",
     "text": [
      "                                                  #NAME   214A  214B  215A  \\\n",
      "0     Bacteria;Firmicutes;Bacilli;Lactobacillales;La...  14490   776  5572   \n",
      "1     Bacteria;Proteobacteria;Gammaproteobacteria;En...     20    72    11   \n",
      "2     Bacteria;Proteobacteria;Gammaproteobacteria;Pa...      0  6718    23   \n",
      "3     Bacteria;Firmicutes;Bacilli;Bacillales;Staphyl...    146   135    55   \n",
      "4     Bacteria;Firmicutes;Clostridia;Clostridiales;C...      0     0     0   \n",
      "...                                                 ...    ...   ...   ...   \n",
      "1025  Bacteria;Proteobacteria;Gammaproteobacteria;Ps...      0     0     0   \n",
      "1026  Bacteria;Firmicutes;Bacilli;Bacillales;Bacilla...      0     0     0   \n",
      "1027  Bacteria;Proteobacteria;Gammaproteobacteria;Be...      0     0     0   \n",
      "1028  Eukaryota;Euglenozoa;Kinetoplastea;Metakinetop...      0     0     0   \n",
      "1029  Bacteria;Proteobacteria;Alphaproteobacteria;Az...      0     0     0   \n",
      "\n",
      "      215B   216A   216B  217A  217B  218A  ...     40     41     42     43  \\\n",
      "0     2070    950   5165   435   392   681  ...  43122  61382  58837  45099   \n",
      "1       98  11684  10255   879    80  6192  ...  35024  16635  25931  37296   \n",
      "2     1141   1466     36    11   688   386  ...    326    750    445    286   \n",
      "3      108    628    402   130   206   782  ...     24     26     29     29   \n",
      "4        0      0      0     0     0     0  ...      0      0      0      0   \n",
      "...    ...    ...    ...   ...   ...   ...  ...    ...    ...    ...    ...   \n",
      "1025     0      0      0     0     0     0  ...      0      0      0      0   \n",
      "1026     0      0      0     0     0     0  ...      0      0      0      0   \n",
      "1027     0      0      0     0     0     0  ...      0      0      0      0   \n",
      "1028     0      0      0     0     0     0  ...      0      0      0      0   \n",
      "1029     0      0      0     0     0     0  ...      2      0      0      0   \n",
      "\n",
      "         44     45     46     47     48     49  \n",
      "0     28817   7736  40495  43195  65386  60506  \n",
      "1     43993  83687  31345  35563   4529  14154  \n",
      "2       110    174    552    635   2600   1250  \n",
      "3       211     93      0      0      0      0  \n",
      "4         0      0      0      0      0      0  \n",
      "...     ...    ...    ...    ...    ...    ...  \n",
      "1025      0      0      0      0      0      0  \n",
      "1026      0      0      0      0      0      0  \n",
      "1027      0      0      0      0      0      0  \n",
      "1028      0      0      0      0      0      0  \n",
      "1029      0      0      0      0      0      0  \n",
      "\n",
      "[1030 rows x 386 columns]\n"
     ]
    }
   ],
   "source": [
    "# Read the CSV file into a pandas DataFrame\n",
    "df = pd.read_csv('/home/xuan/BioinformaticTools/16s/shahid/tables/P11_P14_P28_Ileal_WT_Homo_HET/genus_table_Umar_MPD.csv')\n",
    "\n",
    "print(df)"
   ]
  },
  {
   "cell_type": "code",
   "execution_count": 28,
   "id": "07d47bb2",
   "metadata": {},
   "outputs": [
    {
     "name": "stdout",
     "output_type": "stream",
     "text": [
      "                                                  #NAME   050B   051B   052B  \\\n",
      "0     Bacteria;Firmicutes;Bacilli;Lactobacillales;La...  15487   1898  36150   \n",
      "1     Bacteria;Proteobacteria;Gammaproteobacteria;En...  37063  33816  34646   \n",
      "2     Bacteria;Proteobacteria;Gammaproteobacteria;Pa...    551     13   1597   \n",
      "3     Bacteria;Firmicutes;Bacilli;Bacillales;Staphyl...      0     91     14   \n",
      "4     Bacteria;Firmicutes;Clostridia;Clostridiales;C...      0      0      0   \n",
      "...                                                 ...    ...    ...    ...   \n",
      "1025  Bacteria;Proteobacteria;Gammaproteobacteria;Ps...      0      0      0   \n",
      "1026  Bacteria;Firmicutes;Bacilli;Bacillales;Bacilla...      0      0      0   \n",
      "1027  Bacteria;Proteobacteria;Gammaproteobacteria;Be...      0      0      0   \n",
      "1028  Eukaryota;Euglenozoa;Kinetoplastea;Metakinetop...      0      0      0   \n",
      "1029  Bacteria;Proteobacteria;Alphaproteobacteria;Az...      0      0      0   \n",
      "\n",
      "      053B   054B  055B   056B  057B   058B  ...     45     46     47     48  \\\n",
      "0      106   1148   260    253   110   9884  ...   7736  40495  43195  65386   \n",
      "1     2862  12252   338  21737  4849  14533  ...  83687  31345  35563   4529   \n",
      "2       18     55   555   1181   179    123  ...    174    552    635   2600   \n",
      "3      161   7134  1129   2787   397     21  ...     93      0      0      0   \n",
      "4        0      0     0      0     0      0  ...      0      0      0      0   \n",
      "...    ...    ...   ...    ...   ...    ...  ...    ...    ...    ...    ...   \n",
      "1025     0      0     0      0     0      0  ...      0      0      0      0   \n",
      "1026     0      0     0      0     0      0  ...      0      0      0      0   \n",
      "1027     0      0     0      0     0      0  ...      0      0      0      0   \n",
      "1028     0      0     0      0     0      0  ...      0      0      0      0   \n",
      "1029     0      0     0      0     0      0  ...      0      0      0      0   \n",
      "\n",
      "         49      5      6      7      8      9  \n",
      "0     60506   5772   1801  76450  67741  10408  \n",
      "1     14154  61929  53539   1279     66  51014  \n",
      "2      1250   2354    571   1236   2123    355  \n",
      "3         0   7138    521      9     13   5367  \n",
      "4         0      0      0      0      0      0  \n",
      "...     ...    ...    ...    ...    ...    ...  \n",
      "1025      0      0      0      0      0      0  \n",
      "1026      0      0      0      0      0      0  \n",
      "1027      0      0      0      0      0      0  \n",
      "1028      0      0      0      0      0      0  \n",
      "1029      0      0      0      0      0      0  \n",
      "\n",
      "[1030 rows x 219 columns]\n"
     ]
    }
   ],
   "source": [
    "columns_to_delete = [column for column in df.columns if column.endswith('A')]\n",
    "df = df.drop(columns=columns_to_delete)\n",
    "print(df)"
   ]
  },
  {
   "cell_type": "code",
   "execution_count": 45,
   "id": "0e0e3bbd",
   "metadata": {},
   "outputs": [
    {
     "name": "stdout",
     "output_type": "stream",
     "text": [
      "                                                  #NAME      1      2      3  \\\n",
      "0     Bacteria;Firmicutes;Bacilli;Lactobacillales;La...  79024  68214  75562   \n",
      "1     Bacteria;Proteobacteria;Gammaproteobacteria;En...    112    119     87   \n",
      "2     Bacteria;Proteobacteria;Gammaproteobacteria;Pa...   1437   1060   1513   \n",
      "3     Bacteria;Firmicutes;Bacilli;Bacillales;Staphyl...   1673   3455   3156   \n",
      "4     Bacteria;Firmicutes;Clostridia;Clostridiales;C...      0      0      0   \n",
      "...                                                 ...    ...    ...    ...   \n",
      "1025  Bacteria;Proteobacteria;Gammaproteobacteria;Ps...      0      0      0   \n",
      "1026  Bacteria;Firmicutes;Bacilli;Bacillales;Bacilla...      0      0      0   \n",
      "1027  Bacteria;Proteobacteria;Gammaproteobacteria;Be...      0      0      0   \n",
      "1028  Eukaryota;Euglenozoa;Kinetoplastea;Metakinetop...      0      0      0   \n",
      "1029  Bacteria;Proteobacteria;Alphaproteobacteria;Az...      0      0      0   \n",
      "\n",
      "          4      5      6      7      8      9  ...   254B   255B   256B  \\\n",
      "0      2245   5772   1801  76450  67741  10408  ...  17105  16492  22522   \n",
      "1     71463  61929  53539   1279     66  51014  ...    204      0    115   \n",
      "2        65   2354    571   1236   2123    355  ...    613    118   1581   \n",
      "3      1148   7138    521      9     13   5367  ...     80     31    945   \n",
      "4         4      0      0      0      0      0  ...      5      0      0   \n",
      "...     ...    ...    ...    ...    ...    ...  ...    ...    ...    ...   \n",
      "1025      0      0      0      0      0      0  ...      0      0      0   \n",
      "1026      0      0      0      0      0      0  ...      0      0      0   \n",
      "1027      0      0      0      0      0      0  ...      0      0      0   \n",
      "1028      0      0      0      0      0      0  ...      0      0      0   \n",
      "1029      0      0      0      0      0      0  ...      0      0      0   \n",
      "\n",
      "       257B  258B   259B   260B   261B   262B   263B  \n",
      "0     30689  3073  17606  14138  20224  21461  19769  \n",
      "1        23  2123    448   1579    620     11      0  \n",
      "2      3744    90   1110    364    119    180     83  \n",
      "3       302   726    798    571    456    210   1640  \n",
      "4         0    25      0      0      0      0      0  \n",
      "...     ...   ...    ...    ...    ...    ...    ...  \n",
      "1025      0     0      0      0      0      0      0  \n",
      "1026      0     0      0      0      0      0      0  \n",
      "1027      0     0      0      0      0      0      0  \n",
      "1028      0     0      0      0      0      0      0  \n",
      "1029      0     0      0      0      0      0      0  \n",
      "\n",
      "[1030 rows x 219 columns]\n"
     ]
    }
   ],
   "source": [
    "# Define a custom sorting key function\n",
    "import re\n",
    "def sort_by_numeric_value(column_name):\n",
    "    numbers = re.findall(r'\\d+', column_name)\n",
    "    if numbers:\n",
    "        return int(numbers[0])\n",
    "    return 0\n",
    "# Sort the columns based on their numeric values\n",
    "sorted_columns = sorted(df.columns, key=sort_by_numeric_value)\n",
    "# Reorder the DataFrame columns\n",
    "df = df[sorted_columns]\n",
    "\n",
    "print(df)\n",
    "df.to_csv('./P11_P14_P28_Ileal_WT_Homo_HET/genus_table_Umar_MPD_modified.csv', index=False)"
   ]
  },
  {
   "cell_type": "code",
   "execution_count": 46,
   "id": "e4e6a05b",
   "metadata": {},
   "outputs": [],
   "source": [
    "def filter_tables(filename,outputfile,suffix):\n",
    "    df = pd.read_csv(filename)\n",
    "    columns_to_delete = [column for column in df.columns if column.endswith(suffix)]\n",
    "    df = df.drop(columns=columns_to_delete)\n",
    "    sorted_columns = sorted(df.columns, key=sort_by_numeric_value)\n",
    "    # sorted_columns = sorted(df.columns)\n",
    "    df = df[sorted_columns]\n",
    "    df.to_csv(outputfile, index=False)\n",
    "    return None\n",
    "\n",
    "def sort_tables(filename,outputfile):\n",
    "    df = pd.read_csv(filename)\n",
    "    sorted_columns = sorted(df.columns, key=sort_by_numeric_value)\n",
    "    # sorted_columns = sorted(df.columns)\n",
    "    df = df[sorted_columns]\n",
    "    df.to_csv(outputfile, index=False)\n",
    "    return None"
   ]
  },
  {
   "attachments": {},
   "cell_type": "markdown",
   "id": "d4045179",
   "metadata": {},
   "source": [
    "P11_P14_P28_COLON_WT_HomoHET"
   ]
  },
  {
   "cell_type": "code",
   "execution_count": 47,
   "id": "e5c6e264",
   "metadata": {},
   "outputs": [],
   "source": [
    "path_P11_P14_P28_COLON_WT_HomoHET = \"/home/xuan/BioinformaticTools/16s/shahid/tables/P11_P14_P28_COLON_WT_HomoHET/genus_table_Umar_MPD.csv\"\n",
    "out_P11_P14_P28_COLON_WT_HomoHET = \"/home/xuan/BioinformaticTools/16s/shahid/tables/P11_P14_P28_COLON_WT_HomoHET/genus_table_Umar_MPD_optimized.csv\"\n",
    "filter_tables(path_P11_P14_P28_COLON_WT_HomoHET,out_P11_P14_P28_COLON_WT_HomoHET,\"B\")"
   ]
  },
  {
   "attachments": {},
   "cell_type": "markdown",
   "id": "3fb8718e",
   "metadata": {},
   "source": [
    "P11_P14_P28_COLON_WT_Homo_HET"
   ]
  },
  {
   "cell_type": "code",
   "execution_count": 48,
   "id": "bdd3c1cc",
   "metadata": {},
   "outputs": [],
   "source": [
    "path_P11_P14_P28_COLON_WT_Homo_HET = \"/home/xuan/BioinformaticTools/16s/shahid/tables/P11_P14_P28_COLON_WT_Homo_HET/genus_table_Umar_MPD.csv\"\n",
    "out_P11_P14_P28_COLON_WT_Homo_HET = \"/home/xuan/BioinformaticTools/16s/shahid/tables/P11_P14_P28_COLON_WT_Homo_HET/genus_table_Umar_MPD_optimized.csv\"\n",
    "filter_tables(path_P11_P14_P28_COLON_WT_Homo_HET,out_P11_P14_P28_COLON_WT_Homo_HET,\"B\")"
   ]
  },
  {
   "attachments": {},
   "cell_type": "markdown",
   "id": "7da38c8f",
   "metadata": {},
   "source": [
    "P11_P14_P28_Ileal_WT_HomoHET"
   ]
  },
  {
   "cell_type": "code",
   "execution_count": 49,
   "id": "53c962f6",
   "metadata": {},
   "outputs": [],
   "source": [
    "path_P11_P14_P28_Ileal_WT_HomoHET = \"/home/xuan/BioinformaticTools/16s/shahid/tables/P11_P14_P28_Ileal_WT_HomoHET/genus_table_Umar_MPD.csv\"\n",
    "out_P11_P14_P28_Ileal_WT_HomoHET = \"/home/xuan/BioinformaticTools/16s/shahid/tables/P11_P14_P28_Ileal_WT_HomoHET/genus_table_Umar_MPD_optimized.csv\"\n",
    "filter_tables(path_P11_P14_P28_Ileal_WT_HomoHET,out_P11_P14_P28_Ileal_WT_HomoHET,\"A\")"
   ]
  },
  {
   "attachments": {},
   "cell_type": "markdown",
   "id": "91b46c79",
   "metadata": {},
   "source": [
    "P11_P14_P28_Ileal_WT_Homo_HET"
   ]
  },
  {
   "cell_type": "code",
   "execution_count": 50,
   "id": "1b1a7d02",
   "metadata": {},
   "outputs": [],
   "source": [
    "path_P11_P14_P28_Ileal_WT_Homo_HET = \"/home/xuan/BioinformaticTools/16s/shahid/tables/P11_P14_P28_Ileal_WT_Homo_HET/genus_table_Umar_MPD.csv\"\n",
    "out_P11_P14_P28_Ileal_WT_Homo_HET = \"/home/xuan/BioinformaticTools/16s/shahid/tables/P11_P14_P28_Ileal_WT_Homo_HET/genus_table_Umar_MPD_optimized.csv\"\n",
    "filter_tables(path_P11_P14_P28_Ileal_WT_Homo_HET,out_P11_P14_P28_Ileal_WT_Homo_HET,\"A\")"
   ]
  },
  {
   "attachments": {},
   "cell_type": "markdown",
   "id": "37ef81da",
   "metadata": {},
   "source": [
    "P11_P14_P28_COLON_Ileal_WT_Homo_HET"
   ]
  },
  {
   "cell_type": "code",
   "execution_count": 51,
   "id": "d3ed4d4e",
   "metadata": {},
   "outputs": [],
   "source": [
    "path_P11_P14_P28_COLON_Ileal_WT_Homo_HET = \"/home/xuan/BioinformaticTools/16s/shahid/tables/P11_P14_P28_COLON_Ileal_WT_Homo_HET/genus_table_Umar_MPD.csv\"\n",
    "out_P11_P14_P28_COLON_Ileal_WT_Homo_HET = \"/home/xuan/BioinformaticTools/16s/shahid/tables/P11_P14_P28_COLON_Ileal_WT_Homo_HET/genus_table_Umar_MPD_optimized.csv\"\n",
    "sort_tables(path_P11_P14_P28_COLON_Ileal_WT_Homo_HET,out_P11_P14_P28_COLON_Ileal_WT_Homo_HET)"
   ]
  },
  {
   "attachments": {},
   "cell_type": "markdown",
   "id": "e2923a29",
   "metadata": {},
   "source": [
    "P11_P14_P28_COLON_Ileal_WT_HomoHET"
   ]
  },
  {
   "cell_type": "code",
   "execution_count": 52,
   "id": "5d888bd4",
   "metadata": {},
   "outputs": [],
   "source": [
    "path_P11_P14_P28_COLON_Ileal_WT_HomoHET = \"/home/xuan/BioinformaticTools/16s/shahid/tables/P11_P14_P28_COLON_Ileal_WT_HomoHET/genus_table_Umar_MPD.csv\"\n",
    "out_P11_P14_P28_COLON_Ileal_WT_HomoHET = \"/home/xuan/BioinformaticTools/16s/shahid/tables/P11_P14_P28_COLON_Ileal_WT_HomoHET/genus_table_Umar_MPD_optimized.csv\"\n",
    "sort_tables(path_P11_P14_P28_COLON_Ileal_WT_HomoHET,out_P11_P14_P28_COLON_Ileal_WT_HomoHET)"
   ]
  },
  {
   "attachments": {},
   "cell_type": "markdown",
   "metadata": {},
   "source": [
    "NEC_Formula"
   ]
  },
  {
   "cell_type": "code",
   "execution_count": 53,
   "id": "e7e38e55",
   "metadata": {},
   "outputs": [],
   "source": [
    "path_NEC_Formula = \"/home/xuan/BioinformaticTools/16s/shahid/tables/NEC_Formula/genus_table_Umar_MPD.csv\"\n",
    "out_NEC_Formula = \"/home/xuan/BioinformaticTools/16s/shahid/tables/NEC_Formula/genus_table_Umar_MPD_optimized.csv\"\n",
    "filter_tables(path_NEC_Formula,out_NEC_Formula,\"B\")"
   ]
  },
  {
   "attachments": {},
   "cell_type": "markdown",
   "id": "52434189",
   "metadata": {},
   "source": [
    "NEC"
   ]
  },
  {
   "cell_type": "code",
   "execution_count": 55,
   "id": "d2570691",
   "metadata": {},
   "outputs": [],
   "source": [
    "path_NEC = \"/home/xuan/BioinformaticTools/16s/shahid/tables/NEC/genus_table_Umar_MPD.csv\"\n",
    "out_NEC = \"/home/xuan/BioinformaticTools/16s/shahid/tables/NEC/genus_table_Umar_MPD_optimized.csv\"\n",
    "sort_tables(path_NEC,out_NEC)"
   ]
  }
 ],
 "metadata": {
  "kernelspec": {
   "display_name": "Python 3 (ipykernel)",
   "language": "python",
   "name": "python3"
  },
  "language_info": {
   "codemirror_mode": {
    "name": "ipython",
    "version": 3
   },
   "file_extension": ".py",
   "mimetype": "text/x-python",
   "name": "python",
   "nbconvert_exporter": "python",
   "pygments_lexer": "ipython3",
   "version": "3.10.9"
  }
 },
 "nbformat": 4,
 "nbformat_minor": 5
}
