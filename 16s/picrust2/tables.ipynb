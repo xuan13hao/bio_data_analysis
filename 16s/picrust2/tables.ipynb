{
 "cells": [
  {
   "cell_type": "code",
   "execution_count": 1,
   "id": "d1c5f0f5",
   "metadata": {},
   "outputs": [
    {
     "name": "stderr",
     "output_type": "stream",
     "text": [
      "/tmp/ipykernel_1171/2050241965.py:12: FutureWarning: The default value of regex will change from True to False in a future version.\n",
      "  df.columns = df.columns.str.replace('^VS0', '')\n",
      "/tmp/ipykernel_1171/2050241965.py:13: FutureWarning: The default value of regex will change from True to False in a future version.\n",
      "  df.columns = df.columns.str.replace('^VS_', '')\n"
     ]
    }
   ],
   "source": [
    "import pandas as pd\n",
    "import seaborn as sns\n",
    "import matplotlib.pyplot as plt\n",
    "from sklearn.preprocessing import MinMaxScaler\n",
    "\n",
    "# Create a MinMaxScaler object\n",
    "scaler = MinMaxScaler()\n",
    "\n",
    "\n",
    "# Read the CSV file\n",
    "df = pd.read_csv('pred_metagenome_unstrat_descrip.tsv',delimiter='\\t')\n",
    "df.columns = df.columns.str.replace('^VS0', '')\n",
    "df.columns = df.columns.str.replace('^VS_', '')\n",
    "df = df.drop('description', axis=1)\n",
    "\n"
   ]
  },
  {
   "cell_type": "code",
   "execution_count": 2,
   "id": "c08ccd16",
   "metadata": {},
   "outputs": [],
   "source": [
    "def rebuild_tables(otu_path,pathway,grp_path,out_path,grp_tsv,pathway_out,folder):\n",
    "    path = \"./\"+folder+\"/\"\n",
    "    otu_df = pd.read_csv(otu_path,delimiter='\\t')\n",
    "    pathway = pd.read_csv(pathway,delimiter='\\t')\n",
    "    # otu_df = otu_df.drop('description', axis=1)\n",
    "    pathway = pathway.drop('description', axis=1)\n",
    "    grp_df = pd.read_csv(grp_path)\n",
    "    # print(grp_df)\n",
    "    # # print(otu_df)\n",
    "    # # Low count filter\n",
    "    # minimum_count = 20\n",
    "    # prevalence_threshold = 0.4\n",
    "    # # Filter features based on minimum count and prevalence threshold\n",
    "    # filtered_data = otu_df[otu_df.iloc[:, 1:].ge(minimum_count).sum(axis=1) / otu_df.shape[1] >= prevalence_threshold]\n",
    "    # variance_cutoff = 0.4\n",
    "    # # Filter features based on variance\n",
    "    # otu_df = filtered_data[filtered_data.iloc[:, 1:].var(axis=1) >= variance_cutoff]\n",
    "    # print(otu_df)\n",
    "    otu_df.columns = otu_df.columns.str.replace('^VS0', '')\n",
    "    otu_df.columns = otu_df.columns.str.replace('^VS_', '')\n",
    "    # print(otu_df)\n",
    "    first_column_list = grp_df.iloc[:, 0].astype(str).tolist()\n",
    "    # print(otu_df)\n",
    "    # print(first_column_list)\n",
    "    fina_df = otu_df.filter([\"function\"]+first_column_list)\n",
    "    # print(fina_df)\n",
    "    pathway.columns = pathway.columns.str.replace('^VS0', '')\n",
    "    pathway.columns = pathway.columns.str.replace('^VS_', '')\n",
    "    # print(otu_df)\n",
    "    first_column_list = grp_df.iloc[:, 0].astype(str).tolist()\n",
    "    # print(otu_df)\n",
    "    # print(first_column_list)\n",
    "    path_fina_df = pathway.filter([\"pathway\"]+first_column_list)\n",
    "    \n",
    "    # print(path_fina_df)\n",
    "    grp_df.to_csv(path+grp_tsv,sep='\\t',index=False)\n",
    "    fina_df.to_csv(path+out_path,sep='\\t',index=False)\n",
    "    path_fina_df.to_csv(path+pathway_out,sep='\\t',index=False)\n",
    "    \n",
    "    # grp_df.to_csv(grp_path, sep='\\t',index=False)\n",
    "    # print(fina_df)\n",
    "    # return None\n",
    "# rebuild_tables(\"KO_pred_metagenome_unstrat.tsv\",\"path_abun_unstrat_descrip.tsv\",\"P8_C_F.csv\",\"KO_test.tsv\",\"test_grp.tsv\",\"pathway_out.tsv\",\"test\")"
   ]
  },
  {
   "cell_type": "code",
   "execution_count": 3,
   "id": "ea95d29c",
   "metadata": {},
   "outputs": [
    {
     "name": "stderr",
     "output_type": "stream",
     "text": [
      "/tmp/ipykernel_1171/3841359149.py:19: FutureWarning: The default value of regex will change from True to False in a future version.\n",
      "  otu_df.columns = otu_df.columns.str.replace('^VS0', '')\n",
      "/tmp/ipykernel_1171/3841359149.py:20: FutureWarning: The default value of regex will change from True to False in a future version.\n",
      "  otu_df.columns = otu_df.columns.str.replace('^VS_', '')\n",
      "/tmp/ipykernel_1171/3841359149.py:27: FutureWarning: The default value of regex will change from True to False in a future version.\n",
      "  pathway.columns = pathway.columns.str.replace('^VS0', '')\n",
      "/tmp/ipykernel_1171/3841359149.py:28: FutureWarning: The default value of regex will change from True to False in a future version.\n",
      "  pathway.columns = pathway.columns.str.replace('^VS_', '')\n"
     ]
    }
   ],
   "source": [
    "p8_C_F=\"KO_tables/P8_F_vs_C/P8_C_F.csv\"\n",
    "save_path = \"New_tables/P8_F_vs_C/\"\n",
    "KO_pred_metagenome = \"EC_pred_metagenome_unstrat.tsv\"\n",
    "path_abun_unstrat_descrip = \"path_abun_unstrat_descrip.tsv\"\n",
    "rebuild_tables(KO_pred_metagenome,path_abun_unstrat_descrip,p8_C_F,\"KO_C_F.tsv\",\"grp_C_F.tsv\",\"pathway_out_C_F.tsv\",save_path)"
   ]
  },
  {
   "cell_type": "code",
   "execution_count": 4,
   "id": "c814fa8b",
   "metadata": {},
   "outputs": [
    {
     "name": "stderr",
     "output_type": "stream",
     "text": [
      "/tmp/ipykernel_1171/3841359149.py:19: FutureWarning: The default value of regex will change from True to False in a future version.\n",
      "  otu_df.columns = otu_df.columns.str.replace('^VS0', '')\n",
      "/tmp/ipykernel_1171/3841359149.py:20: FutureWarning: The default value of regex will change from True to False in a future version.\n",
      "  otu_df.columns = otu_df.columns.str.replace('^VS_', '')\n",
      "/tmp/ipykernel_1171/3841359149.py:27: FutureWarning: The default value of regex will change from True to False in a future version.\n",
      "  pathway.columns = pathway.columns.str.replace('^VS0', '')\n",
      "/tmp/ipykernel_1171/3841359149.py:28: FutureWarning: The default value of regex will change from True to False in a future version.\n",
      "  pathway.columns = pathway.columns.str.replace('^VS_', '')\n",
      "/tmp/ipykernel_1171/3841359149.py:19: FutureWarning: The default value of regex will change from True to False in a future version.\n",
      "  otu_df.columns = otu_df.columns.str.replace('^VS0', '')\n",
      "/tmp/ipykernel_1171/3841359149.py:20: FutureWarning: The default value of regex will change from True to False in a future version.\n",
      "  otu_df.columns = otu_df.columns.str.replace('^VS_', '')\n",
      "/tmp/ipykernel_1171/3841359149.py:27: FutureWarning: The default value of regex will change from True to False in a future version.\n",
      "  pathway.columns = pathway.columns.str.replace('^VS0', '')\n",
      "/tmp/ipykernel_1171/3841359149.py:28: FutureWarning: The default value of regex will change from True to False in a future version.\n",
      "  pathway.columns = pathway.columns.str.replace('^VS_', '')\n"
     ]
    }
   ],
   "source": [
    "p8_c_h_h = \"KO_tables/Different_Time_Points/P8/P8_C_HET_HOMO.csv\"\n",
    "save_path = \"New_tables/Different_Time_Points/P8/\"\n",
    "rebuild_tables(KO_pred_metagenome,path_abun_unstrat_descrip,p8_c_h_h,\"KO_C_H_H.tsv\",\"grp_C_H_H.tsv\",\"pathway_out_C_H_H.tsv\",save_path)\n",
    "\n",
    "p8_c_hh = \"KO_tables/Different_Time_Points/P8/P8_C_Het+Homo.csv\"\n",
    "save_path = \"New_tables/Different_Time_Points/P8/\"\n",
    "rebuild_tables(KO_pred_metagenome,path_abun_unstrat_descrip,p8_c_hh,\"KO_C_HH.tsv\",\"grp_C_HH.tsv\",\"pathway_out_C_HH.tsv\",save_path)"
   ]
  },
  {
   "cell_type": "code",
   "execution_count": 5,
   "id": "edb42470",
   "metadata": {},
   "outputs": [
    {
     "name": "stderr",
     "output_type": "stream",
     "text": [
      "/tmp/ipykernel_1171/3841359149.py:19: FutureWarning: The default value of regex will change from True to False in a future version.\n",
      "  otu_df.columns = otu_df.columns.str.replace('^VS0', '')\n",
      "/tmp/ipykernel_1171/3841359149.py:20: FutureWarning: The default value of regex will change from True to False in a future version.\n",
      "  otu_df.columns = otu_df.columns.str.replace('^VS_', '')\n",
      "/tmp/ipykernel_1171/3841359149.py:27: FutureWarning: The default value of regex will change from True to False in a future version.\n",
      "  pathway.columns = pathway.columns.str.replace('^VS0', '')\n",
      "/tmp/ipykernel_1171/3841359149.py:28: FutureWarning: The default value of regex will change from True to False in a future version.\n",
      "  pathway.columns = pathway.columns.str.replace('^VS_', '')\n",
      "/tmp/ipykernel_1171/3841359149.py:19: FutureWarning: The default value of regex will change from True to False in a future version.\n",
      "  otu_df.columns = otu_df.columns.str.replace('^VS0', '')\n",
      "/tmp/ipykernel_1171/3841359149.py:20: FutureWarning: The default value of regex will change from True to False in a future version.\n",
      "  otu_df.columns = otu_df.columns.str.replace('^VS_', '')\n",
      "/tmp/ipykernel_1171/3841359149.py:27: FutureWarning: The default value of regex will change from True to False in a future version.\n",
      "  pathway.columns = pathway.columns.str.replace('^VS0', '')\n",
      "/tmp/ipykernel_1171/3841359149.py:28: FutureWarning: The default value of regex will change from True to False in a future version.\n",
      "  pathway.columns = pathway.columns.str.replace('^VS_', '')\n"
     ]
    }
   ],
   "source": [
    "p8_f_h_h = \"KO_tables/Different_Time_Points/P8/P8_F_HET_HOMO.csv\"\n",
    "save_path = \"New_tables/Different_Time_Points/P8/\"\n",
    "rebuild_tables(KO_pred_metagenome,path_abun_unstrat_descrip,p8_f_h_h,\"KO_F_H_H.tsv\",\"grp_F_H_H.tsv\",\"pathway_out_F_H_H.tsv\",save_path)\n",
    "\n",
    "p8_f_hh = \"KO_tables/Different_Time_Points/P8/P8_F_Het+Homo.csv\"\n",
    "save_path = \"New_tables/Different_Time_Points/P8/\"\n",
    "rebuild_tables(KO_pred_metagenome,path_abun_unstrat_descrip,p8_f_hh,\"KO_F_HH.tsv\",\"grp_F_HH.tsv\",\"pathway_out_F_HH.tsv\",save_path)"
   ]
  },
  {
   "cell_type": "code",
   "execution_count": 6,
   "id": "9bf2f094",
   "metadata": {},
   "outputs": [
    {
     "name": "stderr",
     "output_type": "stream",
     "text": [
      "/tmp/ipykernel_1171/3841359149.py:19: FutureWarning: The default value of regex will change from True to False in a future version.\n",
      "  otu_df.columns = otu_df.columns.str.replace('^VS0', '')\n",
      "/tmp/ipykernel_1171/3841359149.py:20: FutureWarning: The default value of regex will change from True to False in a future version.\n",
      "  otu_df.columns = otu_df.columns.str.replace('^VS_', '')\n",
      "/tmp/ipykernel_1171/3841359149.py:27: FutureWarning: The default value of regex will change from True to False in a future version.\n",
      "  pathway.columns = pathway.columns.str.replace('^VS0', '')\n",
      "/tmp/ipykernel_1171/3841359149.py:28: FutureWarning: The default value of regex will change from True to False in a future version.\n",
      "  pathway.columns = pathway.columns.str.replace('^VS_', '')\n",
      "/tmp/ipykernel_1171/3841359149.py:19: FutureWarning: The default value of regex will change from True to False in a future version.\n",
      "  otu_df.columns = otu_df.columns.str.replace('^VS0', '')\n",
      "/tmp/ipykernel_1171/3841359149.py:20: FutureWarning: The default value of regex will change from True to False in a future version.\n",
      "  otu_df.columns = otu_df.columns.str.replace('^VS_', '')\n",
      "/tmp/ipykernel_1171/3841359149.py:27: FutureWarning: The default value of regex will change from True to False in a future version.\n",
      "  pathway.columns = pathway.columns.str.replace('^VS0', '')\n",
      "/tmp/ipykernel_1171/3841359149.py:28: FutureWarning: The default value of regex will change from True to False in a future version.\n",
      "  pathway.columns = pathway.columns.str.replace('^VS_', '')\n"
     ]
    }
   ],
   "source": [
    "p11_nec_nonnec_colon = \"KO_tables/P11_NEC_Non-NEC/NEC_Colon.csv\"\n",
    "save_path = \"New_tables/P11_NEC_Non-NEC/\"\n",
    "rebuild_tables(KO_pred_metagenome,path_abun_unstrat_descrip,p11_nec_nonnec_colon,\"KO_Colon.tsv\",\"grp_Colon.tsv\",\"pathway_out_Colon.tsv\",save_path)\n",
    "\n",
    "\n",
    "p11_nec_nonnec_ti = \"KO_tables/P11_NEC_Non-NEC/NEC_TI.csv\"\n",
    "save_path = \"New_tables/P11_NEC_Non-NEC/\"\n",
    "rebuild_tables(KO_pred_metagenome,path_abun_unstrat_descrip,p11_nec_nonnec_ti,\"KO_TI.tsv\",\"grp_TI.tsv\",\"pathway_out_TI.tsv\",save_path)"
   ]
  },
  {
   "cell_type": "code",
   "execution_count": 7,
   "id": "141ec55a",
   "metadata": {},
   "outputs": [
    {
     "name": "stderr",
     "output_type": "stream",
     "text": [
      "/tmp/ipykernel_1171/3841359149.py:19: FutureWarning: The default value of regex will change from True to False in a future version.\n",
      "  otu_df.columns = otu_df.columns.str.replace('^VS0', '')\n",
      "/tmp/ipykernel_1171/3841359149.py:20: FutureWarning: The default value of regex will change from True to False in a future version.\n",
      "  otu_df.columns = otu_df.columns.str.replace('^VS_', '')\n",
      "/tmp/ipykernel_1171/3841359149.py:27: FutureWarning: The default value of regex will change from True to False in a future version.\n",
      "  pathway.columns = pathway.columns.str.replace('^VS0', '')\n",
      "/tmp/ipykernel_1171/3841359149.py:28: FutureWarning: The default value of regex will change from True to False in a future version.\n",
      "  pathway.columns = pathway.columns.str.replace('^VS_', '')\n",
      "/tmp/ipykernel_1171/3841359149.py:19: FutureWarning: The default value of regex will change from True to False in a future version.\n",
      "  otu_df.columns = otu_df.columns.str.replace('^VS0', '')\n",
      "/tmp/ipykernel_1171/3841359149.py:20: FutureWarning: The default value of regex will change from True to False in a future version.\n",
      "  otu_df.columns = otu_df.columns.str.replace('^VS_', '')\n",
      "/tmp/ipykernel_1171/3841359149.py:27: FutureWarning: The default value of regex will change from True to False in a future version.\n",
      "  pathway.columns = pathway.columns.str.replace('^VS0', '')\n",
      "/tmp/ipykernel_1171/3841359149.py:28: FutureWarning: The default value of regex will change from True to False in a future version.\n",
      "  pathway.columns = pathway.columns.str.replace('^VS_', '')\n"
     ]
    }
   ],
   "source": [
    "p11_colon_C_wt_hh = \"KO_tables/Different_Time_Points/P11_COLON_WT_HomoHET/P11_COLON_WT_HomoHET_C.csv\"\n",
    "save_path = \"New_tables/Different_Time_Points/P11_COLON_WT_HomoHET/\"\n",
    "rebuild_tables(KO_pred_metagenome,path_abun_unstrat_descrip,p11_colon_C_wt_hh,\"KO_HomoHET_C.tsv\",\"grp_HomoHET_C.tsv\",\"pathway_out_HomoHET_C.tsv\",save_path)\n",
    "\n",
    "p11_colon_NEC_wt_hh = \"KO_tables/Different_Time_Points/P11_COLON_WT_HomoHET/P11_COLON_WT_HomoHET_NEC.csv\"\n",
    "save_path = \"New_tables/Different_Time_Points/P11_COLON_WT_HomoHET/\"\n",
    "rebuild_tables(KO_pred_metagenome,path_abun_unstrat_descrip,p11_colon_NEC_wt_hh,\"KO_HomoHET_NEC.tsv\",\"grp_HomoHET_NEC.tsv\",\"pathway_out_HomoHET_NEC.tsv\",save_path)"
   ]
  },
  {
   "cell_type": "code",
   "execution_count": 8,
   "id": "d31196a6",
   "metadata": {},
   "outputs": [
    {
     "name": "stderr",
     "output_type": "stream",
     "text": [
      "/tmp/ipykernel_1171/3841359149.py:19: FutureWarning: The default value of regex will change from True to False in a future version.\n",
      "  otu_df.columns = otu_df.columns.str.replace('^VS0', '')\n",
      "/tmp/ipykernel_1171/3841359149.py:20: FutureWarning: The default value of regex will change from True to False in a future version.\n",
      "  otu_df.columns = otu_df.columns.str.replace('^VS_', '')\n",
      "/tmp/ipykernel_1171/3841359149.py:27: FutureWarning: The default value of regex will change from True to False in a future version.\n",
      "  pathway.columns = pathway.columns.str.replace('^VS0', '')\n",
      "/tmp/ipykernel_1171/3841359149.py:28: FutureWarning: The default value of regex will change from True to False in a future version.\n",
      "  pathway.columns = pathway.columns.str.replace('^VS_', '')\n",
      "/tmp/ipykernel_1171/3841359149.py:19: FutureWarning: The default value of regex will change from True to False in a future version.\n",
      "  otu_df.columns = otu_df.columns.str.replace('^VS0', '')\n",
      "/tmp/ipykernel_1171/3841359149.py:20: FutureWarning: The default value of regex will change from True to False in a future version.\n",
      "  otu_df.columns = otu_df.columns.str.replace('^VS_', '')\n",
      "/tmp/ipykernel_1171/3841359149.py:27: FutureWarning: The default value of regex will change from True to False in a future version.\n",
      "  pathway.columns = pathway.columns.str.replace('^VS0', '')\n",
      "/tmp/ipykernel_1171/3841359149.py:28: FutureWarning: The default value of regex will change from True to False in a future version.\n",
      "  pathway.columns = pathway.columns.str.replace('^VS_', '')\n"
     ]
    }
   ],
   "source": [
    "p11_colon_C_wt_h_h = \"KO_tables/Different_Time_Points/P11_COLON_WT_Homo_HET/P11_COLON_WT_Homo_HET_C.csv\"\n",
    "save_path = \"New_tables/Different_Time_Points/P11_COLON_WT_Homo_HET/\"\n",
    "rebuild_tables(KO_pred_metagenome,path_abun_unstrat_descrip,p11_colon_C_wt_h_h,\"KO_Homo_HET_C.tsv\",\"grp_Homo_HET_C.tsv\",\"pathway_out_Homo_HET_C.tsv\",save_path)\n",
    "\n",
    "p11_colon_NEC_wt_h_h = \"KO_tables/Different_Time_Points/P11_COLON_WT_Homo_HET/P11_COLON_WT_Homo_HET_NEC.csv\"\n",
    "save_path = \"New_tables/Different_Time_Points/P11_COLON_WT_Homo_HET/\"\n",
    "rebuild_tables(KO_pred_metagenome,path_abun_unstrat_descrip,p11_colon_NEC_wt_h_h,\"KO_Homo_HET_NEC.tsv\",\"grp_Homo_HET_NEC.tsv\",\"pathway_out_Homo_HET_NEC.tsv\",save_path)"
   ]
  },
  {
   "cell_type": "code",
   "execution_count": 9,
   "id": "9cd6d820",
   "metadata": {},
   "outputs": [
    {
     "name": "stderr",
     "output_type": "stream",
     "text": [
      "/tmp/ipykernel_1171/3841359149.py:19: FutureWarning: The default value of regex will change from True to False in a future version.\n",
      "  otu_df.columns = otu_df.columns.str.replace('^VS0', '')\n",
      "/tmp/ipykernel_1171/3841359149.py:20: FutureWarning: The default value of regex will change from True to False in a future version.\n",
      "  otu_df.columns = otu_df.columns.str.replace('^VS_', '')\n",
      "/tmp/ipykernel_1171/3841359149.py:27: FutureWarning: The default value of regex will change from True to False in a future version.\n",
      "  pathway.columns = pathway.columns.str.replace('^VS0', '')\n",
      "/tmp/ipykernel_1171/3841359149.py:28: FutureWarning: The default value of regex will change from True to False in a future version.\n",
      "  pathway.columns = pathway.columns.str.replace('^VS_', '')\n",
      "/tmp/ipykernel_1171/3841359149.py:19: FutureWarning: The default value of regex will change from True to False in a future version.\n",
      "  otu_df.columns = otu_df.columns.str.replace('^VS0', '')\n",
      "/tmp/ipykernel_1171/3841359149.py:20: FutureWarning: The default value of regex will change from True to False in a future version.\n",
      "  otu_df.columns = otu_df.columns.str.replace('^VS_', '')\n",
      "/tmp/ipykernel_1171/3841359149.py:27: FutureWarning: The default value of regex will change from True to False in a future version.\n",
      "  pathway.columns = pathway.columns.str.replace('^VS0', '')\n",
      "/tmp/ipykernel_1171/3841359149.py:28: FutureWarning: The default value of regex will change from True to False in a future version.\n",
      "  pathway.columns = pathway.columns.str.replace('^VS_', '')\n"
     ]
    }
   ],
   "source": [
    "p11_ileal_C_wt_hh = \"KO_tables/Different_Time_Points/P11_Ileal_WT_HomoHET/P11_Ileal_WT_HomoHET_C.csv\"\n",
    "save_path = \"New_tables/Different_Time_Points/P11_Ileal_WT_HomoHET/\"\n",
    "rebuild_tables(KO_pred_metagenome,path_abun_unstrat_descrip,p11_ileal_C_wt_hh,\"KO_HomoHET_C.tsv\",\"grp_HomoHET_C.tsv\",\"pathway_out_HomoHET_C.tsv\",save_path)\n",
    "\n",
    "p11_ileal_nec_wt_hh = \"KO_tables/Different_Time_Points/P11_Ileal_WT_HomoHET/P11_Ileal_WT_HomoHET_NEC.csv\"\n",
    "save_path = \"New_tables/Different_Time_Points/P11_Ileal_WT_HomoHET/\"\n",
    "rebuild_tables(KO_pred_metagenome,path_abun_unstrat_descrip,p11_ileal_nec_wt_hh,\"KO_HomoHET_NEC.tsv\",\"grp_HomoHET_NEC.tsv\",\"pathway_out_HomoHET_NEC.tsv\",save_path)"
   ]
  },
  {
   "cell_type": "code",
   "execution_count": 10,
   "id": "d80be94a",
   "metadata": {},
   "outputs": [
    {
     "name": "stderr",
     "output_type": "stream",
     "text": [
      "/tmp/ipykernel_1171/3841359149.py:19: FutureWarning: The default value of regex will change from True to False in a future version.\n",
      "  otu_df.columns = otu_df.columns.str.replace('^VS0', '')\n",
      "/tmp/ipykernel_1171/3841359149.py:20: FutureWarning: The default value of regex will change from True to False in a future version.\n",
      "  otu_df.columns = otu_df.columns.str.replace('^VS_', '')\n",
      "/tmp/ipykernel_1171/3841359149.py:27: FutureWarning: The default value of regex will change from True to False in a future version.\n",
      "  pathway.columns = pathway.columns.str.replace('^VS0', '')\n",
      "/tmp/ipykernel_1171/3841359149.py:28: FutureWarning: The default value of regex will change from True to False in a future version.\n",
      "  pathway.columns = pathway.columns.str.replace('^VS_', '')\n",
      "/tmp/ipykernel_1171/3841359149.py:19: FutureWarning: The default value of regex will change from True to False in a future version.\n",
      "  otu_df.columns = otu_df.columns.str.replace('^VS0', '')\n",
      "/tmp/ipykernel_1171/3841359149.py:20: FutureWarning: The default value of regex will change from True to False in a future version.\n",
      "  otu_df.columns = otu_df.columns.str.replace('^VS_', '')\n",
      "/tmp/ipykernel_1171/3841359149.py:27: FutureWarning: The default value of regex will change from True to False in a future version.\n",
      "  pathway.columns = pathway.columns.str.replace('^VS0', '')\n",
      "/tmp/ipykernel_1171/3841359149.py:28: FutureWarning: The default value of regex will change from True to False in a future version.\n",
      "  pathway.columns = pathway.columns.str.replace('^VS_', '')\n"
     ]
    }
   ],
   "source": [
    "p11_ileal_C_wt_h_h = \"KO_tables/Different_Time_Points/P11_Ileal_WT_Homo_HET/P11_Ileal_WT_Homo_HET_C.csv\"\n",
    "save_path = \"New_tables/Different_Time_Points/P11_Ileal_WT_Homo_HET/\"\n",
    "rebuild_tables(KO_pred_metagenome,path_abun_unstrat_descrip,p11_ileal_C_wt_h_h,\"KO_Homo_HET_C.tsv\",\"grp_Homo_HET_C.tsv\",\"pathway_out_Homo_HET_C.tsv\",save_path)\n",
    "\n",
    "p11_ileal_nec_wt_h_h = \"KO_tables/Different_Time_Points/P11_Ileal_WT_Homo_HET/P11_Ileal_WT_Homo_HET_NEC.csv\"\n",
    "save_path = \"New_tables/Different_Time_Points/P11_Ileal_WT_Homo_HET/\"\n",
    "rebuild_tables(KO_pred_metagenome,path_abun_unstrat_descrip,p11_ileal_nec_wt_h_h,\"KO_Homo_HET_NEC.tsv\",\"grp_Homo_HET_NEC.tsv\",\"pathway_out_Homo_HET_NEC.tsv\",save_path)"
   ]
  },
  {
   "cell_type": "code",
   "execution_count": 11,
   "id": "af351bae",
   "metadata": {},
   "outputs": [
    {
     "name": "stderr",
     "output_type": "stream",
     "text": [
      "/tmp/ipykernel_1171/3841359149.py:19: FutureWarning: The default value of regex will change from True to False in a future version.\n",
      "  otu_df.columns = otu_df.columns.str.replace('^VS0', '')\n",
      "/tmp/ipykernel_1171/3841359149.py:20: FutureWarning: The default value of regex will change from True to False in a future version.\n",
      "  otu_df.columns = otu_df.columns.str.replace('^VS_', '')\n",
      "/tmp/ipykernel_1171/3841359149.py:27: FutureWarning: The default value of regex will change from True to False in a future version.\n",
      "  pathway.columns = pathway.columns.str.replace('^VS0', '')\n",
      "/tmp/ipykernel_1171/3841359149.py:28: FutureWarning: The default value of regex will change from True to False in a future version.\n",
      "  pathway.columns = pathway.columns.str.replace('^VS_', '')\n",
      "/tmp/ipykernel_1171/3841359149.py:19: FutureWarning: The default value of regex will change from True to False in a future version.\n",
      "  otu_df.columns = otu_df.columns.str.replace('^VS0', '')\n",
      "/tmp/ipykernel_1171/3841359149.py:20: FutureWarning: The default value of regex will change from True to False in a future version.\n",
      "  otu_df.columns = otu_df.columns.str.replace('^VS_', '')\n",
      "/tmp/ipykernel_1171/3841359149.py:27: FutureWarning: The default value of regex will change from True to False in a future version.\n",
      "  pathway.columns = pathway.columns.str.replace('^VS0', '')\n",
      "/tmp/ipykernel_1171/3841359149.py:28: FutureWarning: The default value of regex will change from True to False in a future version.\n",
      "  pathway.columns = pathway.columns.str.replace('^VS_', '')\n"
     ]
    }
   ],
   "source": [
    "p14_colon_C_wt_h_h = \"KO_tables/Different_Time_Points/P14_COLON_WT_Homo_HET/P14_COLON_WT_Homo_HET_C.csv\"\n",
    "save_path = \"New_tables/Different_Time_Points/P14_COLON_WT_Homo_HET/\"\n",
    "rebuild_tables(KO_pred_metagenome,path_abun_unstrat_descrip,p14_colon_C_wt_h_h,\"KO_Homo_HET_C.tsv\",\"grp_Homo_HET_C.tsv\",\"pathway_out_Homo_HET_C.tsv\",save_path)\n",
    "\n",
    "p14_colon_C_wt_hh = \"KO_tables/Different_Time_Points/P14_COLON_WT_HomoHET/P14_COLON_WT_HomoHET.csv\"\n",
    "save_path = \"New_tables/Different_Time_Points/P14_COLON_WT_HomoHET/\"\n",
    "rebuild_tables(KO_pred_metagenome,path_abun_unstrat_descrip,p14_colon_C_wt_hh,\"KO_HomoHET.tsv\",\"grp_HomoHET.tsv\",\"pathway_out_HomoHET.tsv\",save_path)"
   ]
  },
  {
   "cell_type": "code",
   "execution_count": 12,
   "id": "c0314d5b",
   "metadata": {},
   "outputs": [
    {
     "name": "stderr",
     "output_type": "stream",
     "text": [
      "/tmp/ipykernel_1171/3841359149.py:19: FutureWarning: The default value of regex will change from True to False in a future version.\n",
      "  otu_df.columns = otu_df.columns.str.replace('^VS0', '')\n",
      "/tmp/ipykernel_1171/3841359149.py:20: FutureWarning: The default value of regex will change from True to False in a future version.\n",
      "  otu_df.columns = otu_df.columns.str.replace('^VS_', '')\n",
      "/tmp/ipykernel_1171/3841359149.py:27: FutureWarning: The default value of regex will change from True to False in a future version.\n",
      "  pathway.columns = pathway.columns.str.replace('^VS0', '')\n",
      "/tmp/ipykernel_1171/3841359149.py:28: FutureWarning: The default value of regex will change from True to False in a future version.\n",
      "  pathway.columns = pathway.columns.str.replace('^VS_', '')\n",
      "/tmp/ipykernel_1171/3841359149.py:19: FutureWarning: The default value of regex will change from True to False in a future version.\n",
      "  otu_df.columns = otu_df.columns.str.replace('^VS0', '')\n",
      "/tmp/ipykernel_1171/3841359149.py:20: FutureWarning: The default value of regex will change from True to False in a future version.\n",
      "  otu_df.columns = otu_df.columns.str.replace('^VS_', '')\n",
      "/tmp/ipykernel_1171/3841359149.py:27: FutureWarning: The default value of regex will change from True to False in a future version.\n",
      "  pathway.columns = pathway.columns.str.replace('^VS0', '')\n",
      "/tmp/ipykernel_1171/3841359149.py:28: FutureWarning: The default value of regex will change from True to False in a future version.\n",
      "  pathway.columns = pathway.columns.str.replace('^VS_', '')\n"
     ]
    }
   ],
   "source": [
    "p14_ileal_C_wt_h_h = \"KO_tables/Different_Time_Points/P14_Ileal_WT_Homo_HET/P14_Ileal_WT_Homo_HET_C.csv\"\n",
    "save_path = \"New_tables/Different_Time_Points/P14_Ileal_WT_Homo_HET/\"\n",
    "rebuild_tables(KO_pred_metagenome,path_abun_unstrat_descrip,p14_ileal_C_wt_h_h,\"KO_Homo_HET_C.tsv\",\"grp_Homo_HET_C.tsv\",\"pathway_out_Homo_HET_C.tsv\",save_path)\n",
    "\n",
    "p14_ileal_C_wt_hh = \"KO_tables/Different_Time_Points/P14_Ileal_WT_HomoHET/P14_Ileal_WT_HomoHET_C.csv\"\n",
    "save_path = \"New_tables/Different_Time_Points/P14_Ileal_WT_HomoHET/\"\n",
    "rebuild_tables(KO_pred_metagenome,path_abun_unstrat_descrip,p14_ileal_C_wt_hh,\"KO_HomoHET_C.tsv\",\"grp_HomoHET_C.tsv\",\"pathway_out_HomoHET_C.tsv\",save_path)"
   ]
  },
  {
   "cell_type": "code",
   "execution_count": 13,
   "id": "1327dea2",
   "metadata": {},
   "outputs": [
    {
     "name": "stderr",
     "output_type": "stream",
     "text": [
      "/tmp/ipykernel_1171/3841359149.py:19: FutureWarning: The default value of regex will change from True to False in a future version.\n",
      "  otu_df.columns = otu_df.columns.str.replace('^VS0', '')\n",
      "/tmp/ipykernel_1171/3841359149.py:20: FutureWarning: The default value of regex will change from True to False in a future version.\n",
      "  otu_df.columns = otu_df.columns.str.replace('^VS_', '')\n",
      "/tmp/ipykernel_1171/3841359149.py:27: FutureWarning: The default value of regex will change from True to False in a future version.\n",
      "  pathway.columns = pathway.columns.str.replace('^VS0', '')\n",
      "/tmp/ipykernel_1171/3841359149.py:28: FutureWarning: The default value of regex will change from True to False in a future version.\n",
      "  pathway.columns = pathway.columns.str.replace('^VS_', '')\n",
      "/tmp/ipykernel_1171/3841359149.py:19: FutureWarning: The default value of regex will change from True to False in a future version.\n",
      "  otu_df.columns = otu_df.columns.str.replace('^VS0', '')\n",
      "/tmp/ipykernel_1171/3841359149.py:20: FutureWarning: The default value of regex will change from True to False in a future version.\n",
      "  otu_df.columns = otu_df.columns.str.replace('^VS_', '')\n",
      "/tmp/ipykernel_1171/3841359149.py:27: FutureWarning: The default value of regex will change from True to False in a future version.\n",
      "  pathway.columns = pathway.columns.str.replace('^VS0', '')\n",
      "/tmp/ipykernel_1171/3841359149.py:28: FutureWarning: The default value of regex will change from True to False in a future version.\n",
      "  pathway.columns = pathway.columns.str.replace('^VS_', '')\n"
     ]
    }
   ],
   "source": [
    "p28_colon_C_wt_h_h = \"KO_tables/Different_Time_Points/P28_COLON_WT_Homo_HET/P28_COLON_WT_Homo_HET.csv\"\n",
    "save_path = \"New_tables/Different_Time_Points/P28_COLON_WT_Homo_HET/\"\n",
    "rebuild_tables(KO_pred_metagenome,path_abun_unstrat_descrip,p28_colon_C_wt_h_h,\"KO_Homo_HET.tsv\",\"grp_Homo_HET.tsv\",\"pathway_out_Homo_HET.tsv\",save_path)\n",
    "\n",
    "p28_colon_C_wt_hh = \"KO_tables/Different_Time_Points/P28_COLON_WT_HomoHET/P28_COLON_WT_HomoHET.csv\"\n",
    "save_path = \"New_tables/Different_Time_Points/P28_COLON_WT_HomoHET/\"\n",
    "rebuild_tables(KO_pred_metagenome,path_abun_unstrat_descrip,p28_colon_C_wt_hh,\"KO_HomoHET.tsv\",\"grp_HomoHET.tsv\",\"pathway_out_HomoHET.tsv\",save_path)"
   ]
  },
  {
   "cell_type": "code",
   "execution_count": 14,
   "id": "9f524203",
   "metadata": {},
   "outputs": [
    {
     "name": "stderr",
     "output_type": "stream",
     "text": [
      "/tmp/ipykernel_1171/3841359149.py:19: FutureWarning: The default value of regex will change from True to False in a future version.\n",
      "  otu_df.columns = otu_df.columns.str.replace('^VS0', '')\n",
      "/tmp/ipykernel_1171/3841359149.py:20: FutureWarning: The default value of regex will change from True to False in a future version.\n",
      "  otu_df.columns = otu_df.columns.str.replace('^VS_', '')\n",
      "/tmp/ipykernel_1171/3841359149.py:27: FutureWarning: The default value of regex will change from True to False in a future version.\n",
      "  pathway.columns = pathway.columns.str.replace('^VS0', '')\n",
      "/tmp/ipykernel_1171/3841359149.py:28: FutureWarning: The default value of regex will change from True to False in a future version.\n",
      "  pathway.columns = pathway.columns.str.replace('^VS_', '')\n",
      "/tmp/ipykernel_1171/3841359149.py:19: FutureWarning: The default value of regex will change from True to False in a future version.\n",
      "  otu_df.columns = otu_df.columns.str.replace('^VS0', '')\n",
      "/tmp/ipykernel_1171/3841359149.py:20: FutureWarning: The default value of regex will change from True to False in a future version.\n",
      "  otu_df.columns = otu_df.columns.str.replace('^VS_', '')\n",
      "/tmp/ipykernel_1171/3841359149.py:27: FutureWarning: The default value of regex will change from True to False in a future version.\n",
      "  pathway.columns = pathway.columns.str.replace('^VS0', '')\n",
      "/tmp/ipykernel_1171/3841359149.py:28: FutureWarning: The default value of regex will change from True to False in a future version.\n",
      "  pathway.columns = pathway.columns.str.replace('^VS_', '')\n"
     ]
    }
   ],
   "source": [
    "p28_ileal_C_wt_h_h = \"KO_tables/Different_Time_Points/P28_Ileal_WT_Homo_HET/P28_Ileal_WT_Homo_HET.csv\"\n",
    "save_path = \"New_tables/Different_Time_Points/P28_Ileal_WT_Homo_HET/\"\n",
    "rebuild_tables(KO_pred_metagenome,path_abun_unstrat_descrip,p28_ileal_C_wt_h_h,\"KO_Homo_HET.tsv\",\"grp_Homo_HET.tsv\",\"pathway_out_Homo_HET.tsv\",save_path)\n",
    "\n",
    "p28_ileal_C_wt_hh = \"KO_tables/Different_Time_Points/P28_Ileal_WT_HomoHET/P11_P14_P28_Ileal_WT_HomoHET.csv\"\n",
    "save_path = \"New_tables/Different_Time_Points/P28_Ileal_WT_HomoHET/\"\n",
    "rebuild_tables(KO_pred_metagenome,path_abun_unstrat_descrip,p28_ileal_C_wt_hh,\"KO_HomoHET.tsv\",\"grp_HomoHET.tsv\",\"pathway_out_HomoHET.tsv\",save_path)"
   ]
  }
 ],
 "metadata": {
  "kernelspec": {
   "display_name": "Python 3 (ipykernel)",
   "language": "python",
   "name": "python3"
  },
  "language_info": {
   "codemirror_mode": {
    "name": "ipython",
    "version": 3
   },
   "file_extension": ".py",
   "mimetype": "text/x-python",
   "name": "python",
   "nbconvert_exporter": "python",
   "pygments_lexer": "ipython3",
   "version": "3.10.9"
  }
 },
 "nbformat": 4,
 "nbformat_minor": 5
}
