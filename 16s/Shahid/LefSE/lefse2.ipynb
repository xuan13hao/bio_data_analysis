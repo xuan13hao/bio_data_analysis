{
 "cells": [
  {
   "cell_type": "code",
   "execution_count": 1,
   "metadata": {},
   "outputs": [],
   "source": [
    "import pandas as pd\n",
    "import seaborn as sns\n",
    "import matplotlib.pyplot as plt\n",
    "import numpy as np\n",
    "import re\n",
    "import matplotlib.patches as mpatches\n",
    "import matplotlib.lines as mlines"
   ]
  },
  {
   "cell_type": "code",
   "execution_count": 2,
   "metadata": {},
   "outputs": [
    {
     "ename": "NameError",
     "evalue": "name 'lefse_sorted' is not defined",
     "output_type": "error",
     "traceback": [
      "\u001b[0;31m---------------------------------------------------------------------------\u001b[0m",
      "\u001b[0;31mNameError\u001b[0m                                 Traceback (most recent call last)",
      "\u001b[1;32m/home/xuan/data_analysis/16s/shahid/LefSE/lefse2.ipynb Cell 2\u001b[0m line \u001b[0;36m9\n\u001b[1;32m      <a href='vscode-notebook-cell://wsl%2Bubuntu/home/xuan/data_analysis/16s/shahid/LefSE/lefse2.ipynb#X46sdnNjb2RlLXJlbW90ZQ%3D%3D?line=6'>7</a>\u001b[0m lefse \u001b[39m=\u001b[39m lefse\u001b[39m.\u001b[39msort_values(by\u001b[39m=\u001b[39m\u001b[39m'\u001b[39m\u001b[39mabs_LDAscore\u001b[39m\u001b[39m'\u001b[39m, ascending\u001b[39m=\u001b[39m\u001b[39mFalse\u001b[39;00m)\u001b[39m.\u001b[39mhead(\u001b[39m15\u001b[39m)\n\u001b[1;32m      <a href='vscode-notebook-cell://wsl%2Bubuntu/home/xuan/data_analysis/16s/shahid/LefSE/lefse2.ipynb#X46sdnNjb2RlLXJlbW90ZQ%3D%3D?line=7'>8</a>\u001b[0m \u001b[39m# Define the condition to filter the data (e.g., Category == 'X')\u001b[39;00m\n\u001b[0;32m----> <a href='vscode-notebook-cell://wsl%2Bubuntu/home/xuan/data_analysis/16s/shahid/LefSE/lefse2.ipynb#X46sdnNjb2RlLXJlbW90ZQ%3D%3D?line=8'>9</a>\u001b[0m lefse_sorted \n",
      "\u001b[0;31mNameError\u001b[0m: name 'lefse_sorted' is not defined"
     ]
    }
   ],
   "source": [
    "# Load data\n",
    "lefse = pd.read_csv('P11_NEC_C/COLON/lefse_de_output_genus.csv',sep=',')\n",
    "condition = (lefse['Pvalues'] < 0.05)\n",
    "# Apply the condition to filter the data\n",
    "lefse = lefse[condition]\n",
    "lefse = lefse.assign(abs_LDAscore=abs(lefse['LDAscore']))\n",
    "lefse = lefse.sort_values(by='abs_LDAscore', ascending=False).head(15)\n",
    "# Define the condition to filter the data (e.g., Category == 'X')\n",
    "lefse_sorted \n"
   ]
  }
 ],
 "metadata": {
  "kernelspec": {
   "display_name": "Python 3",
   "language": "python",
   "name": "python3"
  },
  "language_info": {
   "codemirror_mode": {
    "name": "ipython",
    "version": 3
   },
   "file_extension": ".py",
   "mimetype": "text/x-python",
   "name": "python",
   "nbconvert_exporter": "python",
   "pygments_lexer": "ipython3",
   "version": "3.10.10"
  },
  "orig_nbformat": 4
 },
 "nbformat": 4,
 "nbformat_minor": 2
}
