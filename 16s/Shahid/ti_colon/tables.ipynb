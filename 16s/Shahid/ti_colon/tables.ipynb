{
 "cells": [
  {
   "cell_type": "code",
   "execution_count": 1,
   "id": "d1c5f0f5",
   "metadata": {},
   "outputs": [],
   "source": [
    "import pandas as pd\n",
    "import seaborn as sns\n",
    "import matplotlib.pyplot as plt\n",
    "from sklearn.preprocessing import MinMaxScaler"
   ]
  },
  {
   "cell_type": "code",
   "execution_count": 2,
   "id": "c08ccd16",
   "metadata": {},
   "outputs": [],
   "source": [
    "def rebuild_tables(otu_path,pathway,grp_path,out_path,grp_tsv,pathway_out,folder):\n",
    "    path = \"./\"+folder+\"/\"\n",
    "    otu_df = pd.read_csv(otu_path,delimiter='\\t')\n",
    "    otu_df = otu_df.drop('description', axis=1)\n",
    "    pathway = pd.read_csv(pathway,delimiter='\\t')\n",
    "    pathway = pathway.drop('description', axis=1)\n",
    "    grp_df = pd.read_csv(grp_path)\n",
    "    otu_df.columns = otu_df.columns.str.replace('^VS0', '',regex=True)\n",
    "    otu_df.columns = otu_df.columns.str.replace('^VS_', '',regex=True)\n",
    "    # print(otu_df.columns)\n",
    "    first_column_list = grp_df.iloc[:, 0].astype(str).tolist()\n",
    "    # print(first_column_list)\n",
    "    fina_df = otu_df.filter([\"function\"]+first_column_list)\n",
    "    pathway.columns = pathway.columns.str.replace('^VS0', '',regex=True)\n",
    "    pathway.columns = pathway.columns.str.replace('^VS_', '',regex=True)\n",
    "    first_column_list = grp_df.iloc[:, 0].astype(str).tolist()\n",
    "    path_fina_df = pathway.filter([\"pathway\"]+first_column_list)\n",
    "    # print(path_fina_df)\n",
    "    grp_df.to_csv(path+grp_tsv,sep='\\t',index=False)\n",
    "    fina_df.to_csv(path+out_path,sep='\\t',index=False)\n",
    "    path_fina_df.to_csv(path+pathway_out,sep='\\t',index=False)"
   ]
  },
  {
   "cell_type": "code",
   "execution_count": 3,
   "id": "ea95d29c",
   "metadata": {},
   "outputs": [],
   "source": [
    "P11=\"P11/P11_Ilea_COLON_WT_C.csv\"\n",
    "save_path = \"P11/picrust\"\n",
    "KO_pred_metagenome = \"picrust2/EC_pred_metagenome_unstrat_descrip.tsv\"\n",
    "path_abun_unstrat_descrip = \"picrust2/path_abun_unstrat_descrip.tsv\"\n",
    "rebuild_tables(KO_pred_metagenome,path_abun_unstrat_descrip,P11,\"EC_P11_Ilea_COLON_WT.tsv\",\"P11_Ilea_COLON_WT_grp.tsv\",\"pathway_out_P11_Ilea_COLON_WT_grp.tsv\",save_path)\n"
   ]
  },
  {
   "cell_type": "code",
   "execution_count": 4,
   "id": "b4c7d6e7",
   "metadata": {},
   "outputs": [],
   "source": [
    "P14=\"P14/P14_Ileal_COLON_WT_C.csv\"\n",
    "save_path = \"P14/picrust\"\n",
    "KO_pred_metagenome = \"picrust2/EC_pred_metagenome_unstrat_descrip.tsv\"\n",
    "path_abun_unstrat_descrip = \"picrust2/path_abun_unstrat_descrip.tsv\"\n",
    "rebuild_tables(KO_pred_metagenome,path_abun_unstrat_descrip,P14,\"EC_P14_Ilea_COLON_WT.tsv\",\"P14_Ilea_COLON_WT_grp.tsv\",\"pathway_out_P14_Ilea_COLON_WT_grp.tsv\",save_path)"
   ]
  },
  {
   "cell_type": "code",
   "execution_count": 5,
   "id": "2431f1c6",
   "metadata": {},
   "outputs": [],
   "source": [
    "P28=\"P28/P28_COLON_WT_TI.csv\"\n",
    "save_path = \"P28/picrust\"\n",
    "KO_pred_metagenome = \"picrust2/EC_pred_metagenome_unstrat_descrip.tsv\"\n",
    "path_abun_unstrat_descrip = \"picrust2/path_abun_unstrat_descrip.tsv\"\n",
    "rebuild_tables(KO_pred_metagenome,path_abun_unstrat_descrip,P28,\"EC_P28_Ilea_COLON_WT.tsv\",\"P28_Ilea_COLON_WT_grp.tsv\",\"pathway_out_P28_Ilea_COLON_WT_grp.tsv\",save_path)"
   ]
  }
 ],
 "metadata": {
  "kernelspec": {
   "display_name": "Python 3 (ipykernel)",
   "language": "python",
   "name": "python3"
  },
  "language_info": {
   "codemirror_mode": {
    "name": "ipython",
    "version": 3
   },
   "file_extension": ".py",
   "mimetype": "text/x-python",
   "name": "python",
   "nbconvert_exporter": "python",
   "pygments_lexer": "ipython3",
   "version": "3.10.10"
  }
 },
 "nbformat": 4,
 "nbformat_minor": 5
}
